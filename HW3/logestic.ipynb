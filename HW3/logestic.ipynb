{
 "cells": [
  {
   "cell_type": "code",
   "execution_count": 16,
   "metadata": {},
   "outputs": [],
   "source": [
    "import numpy as np\n",
    "import pandas as pd\n",
    "import time\n",
    "import matplotlib.pyplot as plt\n",
    "from sklearn.naive_bayes import BernoulliNB\n",
    "from sklearn.model_selection import KFold\n",
    "num_itr = 70\n"
   ]
  },
  {
   "cell_type": "code",
   "execution_count": 17,
   "metadata": {},
   "outputs": [],
   "source": [
    "def sigmoid(X, weight):\n",
    "    z = np.dot(X, weight)\n",
    "    return 1 / (1 + np.exp(-z))"
   ]
  },
  {
   "cell_type": "code",
   "execution_count": 18,
   "metadata": {},
   "outputs": [],
   "source": [
    "def gradient_ascent(X, h, y):\n",
    "    grad = np.dot(X.T, y - h)\n",
    "    return grad"
   ]
  },
  {
   "cell_type": "code",
   "execution_count": 19,
   "metadata": {},
   "outputs": [],
   "source": [
    "def update(weight, learning_rate, gradient):\n",
    "    return weight + learning_rate * gradient\n",
    "def update2(weight, learning_rate, gradient, landa):\n",
    "    return weight + learning_rate * gradient - learning_rate * landa * weight"
   ]
  },
  {
   "cell_type": "code",
   "execution_count": 20,
   "metadata": {},
   "outputs": [],
   "source": [
    "df = pd.read_csv('train.csv', header=None).astype(int)\n",
    "df_label = pd.read_table('train_labels.txt', header=None).astype(int)\n",
    "data = pd.concat([df, df_label], axis=1)\n",
    "\n",
    "test = pd.read_csv('test.csv', header=None)\n",
    "test_label = pd.read_table('test_labels.txt', header=None)\n",
    "\n",
    "train, validation = np.split(data.sample(frac=1), [int(0.8*len(data))])"
   ]
  },
  {
   "cell_type": "code",
   "execution_count": 21,
   "metadata": {},
   "outputs": [],
   "source": [
    "X_train = train.iloc[:, 0:5180].copy()\n",
    "intercept = np.ones((X_train.shape[0], 1),)\n",
    "X = np.concatenate((intercept, X_train), axis=1)\n",
    "Y = train.iloc[:, -1].copy()\n",
    "Y = pd.DataFrame(Y)\n",
    "W = np.zeros((X.shape[1], 1))"
   ]
  },
  {
   "cell_type": "code",
   "execution_count": 22,
   "metadata": {},
   "outputs": [],
   "source": [
    "X_val = validation.iloc[:, 0:5180].copy()\n",
    "intercept = np.ones((X_val.shape[0], 1),)\n",
    "X_v = np.concatenate((intercept, X_val), axis=1)\n",
    "Y_v = validation.iloc[:, -1].copy()\n",
    "Y_v = pd.DataFrame(Y_v)"
   ]
  },
  {
   "cell_type": "code",
   "execution_count": 23,
   "metadata": {},
   "outputs": [],
   "source": [
    "X_test = test.copy()\n",
    "intercept = np.ones((X_test.shape[0], 1),)\n",
    "X_t = np.concatenate((intercept, X_test), axis=1)\n",
    "Y_t = test_label.copy()"
   ]
  },
  {
   "cell_type": "markdown",
   "metadata": {},
   "source": [
    "navie bayes:"
   ]
  },
  {
   "cell_type": "code",
   "execution_count": 27,
   "metadata": {},
   "outputs": [
    {
     "name": "stderr",
     "output_type": "stream",
     "text": [
      "C:\\Users\\ASUS\\Anaconda3\\lib\\site-packages\\sklearn\\utils\\validation.py:724: DataConversionWarning: A column-vector y was passed when a 1d array was expected. Please change the shape of y to (n_samples, ), for example using ravel().\n",
      "  y = column_or_1d(y, warn=True)\n"
     ]
    },
    {
     "name": "stdout",
     "output_type": "stream",
     "text": [
      "NB train acc: 3.8344491783323194\n",
      "NB test acc: 21.262458471760798\n",
      "Train Time: 1.500030755996704\n"
     ]
    }
   ],
   "source": [
    "start_time = time.time()\n",
    "model = BernoulliNB(fit_prior=True)\n",
    "model.fit(X_train, Y)\n",
    "\n",
    "predict_v = model.predict(X_val)\n",
    "predict_t = model.predict(X_test)\n",
    "predict_v = pd.DataFrame(predict_v)\n",
    "predict_t = pd.DataFrame(predict_t)\n",
    "\n",
    "n = pd.concat([Y_v, predict_v], axis=1, ignore_index=True)\n",
    "m = pd.concat([Y_t, predict_v], axis=1, ignore_index=True)\n",
    "\n",
    "print('NB train acc:', n[n[0] == n[1]].shape[0]/n.shape[0]*100)\n",
    "print('NB test acc:', m[m[0] == m[1]].shape[0]/m.shape[0]*100)\n",
    "print('Train Time:', str(time.time() - start_time))"
   ]
  },
  {
   "cell_type": "code",
   "execution_count": 25,
   "metadata": {},
   "outputs": [],
   "source": [
    "train_accus = []\n",
    "train_accus_reg = []\n",
    "test_accus = []\n",
    "test_accus_reg = []\n",
    "start_time = time.time()\n",
    "\n",
    "for i in range(num_itr):\n",
    "    H = sigmoid(X, W)\n",
    "    gradient = gradient_ascent(X, H, Y)\n",
    "    W = update(W, 0.1, gradient)\n",
    "    W_regularization = update2(W, 0.1, gradient, 7) ## landa = 0.5\n",
    "    #result = sigmoid(X_v, W)\n",
    "\n",
    "    ## validation data accuracy\n",
    "    result = sigmoid(X_v, W)\n",
    "    result_reg = sigmoid(X_v, W_regularization)\n",
    "    comp = np.concatenate((result, Y_v), axis=1)\n",
    "    comp_reg = np.concatenate((result_reg, Y_v), axis=1)\n",
    "    f = pd.DataFrame(comp)\n",
    "    f_reg = pd.DataFrame(comp_reg)\n",
    "    f['pred'] = f[0].apply(lambda x: 0 if x < 0.5 else 1)\n",
    "    f_reg['pred'] = f_reg[0].apply(lambda x: 0 if x < 0.5 else 1)\n",
    "    accuracy = f.loc[f['pred'] == f[1].astype(int)].shape[0]/f.shape[0] * 100\n",
    "    accuracy_reg = f_reg.loc[f_reg['pred'] == f_reg[1].astype(int)].shape[0] / f_reg.shape[0] * 100\n",
    "    train_accus.append(accuracy)\n",
    "    train_accus_reg.append(accuracy_reg)\n",
    "\n",
    "\n",
    "    ## test data accuracy\n",
    "    test_result = sigmoid(X_t, W)\n",
    "    test_reg_result = sigmoid(X_t, W_regularization)\n",
    "    comp = np.concatenate((test_result, Y_t), axis=1)\n",
    "    comp_reg = np.concatenate((test_reg_result, Y_t), axis=1)\n",
    "    f = pd.DataFrame(comp)\n",
    "    f_reg = pd.DataFrame(comp_reg)\n",
    "    f['pred'] = f[0].apply(lambda x: 0 if x < 0.5 else 1)\n",
    "    f_reg['pred'] = f_reg[0].apply(lambda x: 0 if x < 0.5 else 1)\n",
    "    test_accuracy = f.loc[f['pred'] == f[1].astype(int)].shape[0] / f.shape[0] * 100\n",
    "    test_accuracy_reg = f_reg.loc[f_reg['pred'] == f_reg[1].astype(int)].shape[0] / f_reg.shape[0] * 100\n",
    "    test_accus.append(test_accuracy)\n",
    "    test_accus_reg.append(test_accuracy_reg)\n"
   ]
  },
  {
   "cell_type": "code",
   "execution_count": 26,
   "metadata": {},
   "outputs": [
    {
     "name": "stdout",
     "output_type": "stream",
     "text": [
      "Best Train Accuracy Value: 97.46136865342163 At Itr: 46\n",
      "Average Train Accuracy: 96.61147902869754\n",
      "Best Train Accuracy Value after Regularization: 97.24061810154525 At Itr: 7\n",
      "Average Train Accuracy after Regularization: 94.67202775149792\n",
      "Best Test Accuracy Value: 98.61572535991141 At Itr: 57\n",
      "Average Test Accuracy: 97.86426198386333\n",
      "Best Test Accuracy Value after Regularization: 98.56035437430786 At Itr: 28\n",
      "Average Test Accuracy after Regularization: 96.11691188103148\n",
      "Training Time: 4.996616840362549\n"
     ]
    },
    {
     "data": {
      "image/png": "[encoded data removed]",
      "text/plain": [
       "<Figure size 432x288 with 2 Axes>"
      ]
     },
     "metadata": {
      "needs_background": "light"
     },
     "output_type": "display_data"
    }
   ],
   "source": [
    "max_ind = np.argmax(train_accus)\n",
    "max_ind_reg = np.argmax(train_accus_reg)\n",
    "test_max_ind = np.argmax(test_accus)\n",
    "test_max_ind_reg = np.argmax(test_accus_reg)\n",
    "print('Best Train Accuracy Value:', train_accus[max_ind], 'At Itr:', max_ind)\n",
    "print('Average Train Accuracy:', np.mean(train_accus))\n",
    "print('Best Train Accuracy Value after Regularization:', train_accus_reg[max_ind_reg], 'At Itr:', max_ind_reg)\n",
    "print('Average Train Accuracy after Regularization:', np.mean(train_accus_reg))\n",
    "\n",
    "print('Best Test Accuracy Value:', test_accus[test_max_ind], 'At Itr:', test_max_ind)\n",
    "print('Average Test Accuracy:', np.mean(test_accus))\n",
    "print('Best Test Accuracy Value after Regularization:', test_accus_reg[test_max_ind_reg], 'At Itr:', test_max_ind_reg)\n",
    "print('Average Test Accuracy after Regularization:', np.mean(test_accus_reg))\n",
    "\n",
    "print('Training Time:', str(time.time() - start_time))\n",
    "\n",
    "fig1 = plt.figure()\n",
    "plt.subplot(211)\n",
    "plt.plot(range(num_itr), train_accus)\n",
    "plt.subplot(212)\n",
    "plt.plot(range(num_itr), test_accus)\n",
    "\n",
    "\n",
    "plt.show()"
   ]
  },
  {
   "cell_type": "code",
   "execution_count": 31,
   "metadata": {},
   "outputs": [
    {
     "name": "stdout",
     "output_type": "stream",
     "text": [
      "4527 1\n",
      "########################################### 100\n"
     ]
    },
    {
     "name": "stderr",
     "output_type": "stream",
     "text": [
      "C:\\Users\\ASUS\\Anaconda3\\lib\\site-packages\\sklearn\\utils\\validation.py:724: DataConversionWarning: A column-vector y was passed when a 1d array was expected. Please change the shape of y to (n_samples, ), for example using ravel().\n",
      "  y = column_or_1d(y, warn=True)\n"
     ]
    },
    {
     "name": "stdout",
     "output_type": "stream",
     "text": [
      "########################################### 200\n"
     ]
    },
    {
     "name": "stderr",
     "output_type": "stream",
     "text": [
      "C:\\Users\\ASUS\\Anaconda3\\lib\\site-packages\\sklearn\\utils\\validation.py:724: DataConversionWarning: A column-vector y was passed when a 1d array was expected. Please change the shape of y to (n_samples, ), for example using ravel().\n",
      "  y = column_or_1d(y, warn=True)\n"
     ]
    },
    {
     "name": "stdout",
     "output_type": "stream",
     "text": [
      "########################################### 300\n"
     ]
    },
    {
     "name": "stderr",
     "output_type": "stream",
     "text": [
      "C:\\Users\\ASUS\\Anaconda3\\lib\\site-packages\\sklearn\\utils\\validation.py:724: DataConversionWarning: A column-vector y was passed when a 1d array was expected. Please change the shape of y to (n_samples, ), for example using ravel().\n",
      "  y = column_or_1d(y, warn=True)\n"
     ]
    },
    {
     "name": "stdout",
     "output_type": "stream",
     "text": [
      "########################################### 400\n"
     ]
    },
    {
     "name": "stderr",
     "output_type": "stream",
     "text": [
      "C:\\Users\\ASUS\\Anaconda3\\lib\\site-packages\\sklearn\\utils\\validation.py:724: DataConversionWarning: A column-vector y was passed when a 1d array was expected. Please change the shape of y to (n_samples, ), for example using ravel().\n",
      "  y = column_or_1d(y, warn=True)\n"
     ]
    },
    {
     "name": "stdout",
     "output_type": "stream",
     "text": [
      "########################################### 500\n"
     ]
    },
    {
     "name": "stderr",
     "output_type": "stream",
     "text": [
      "C:\\Users\\ASUS\\Anaconda3\\lib\\site-packages\\sklearn\\utils\\validation.py:724: DataConversionWarning: A column-vector y was passed when a 1d array was expected. Please change the shape of y to (n_samples, ), for example using ravel().\n",
      "  y = column_or_1d(y, warn=True)\n"
     ]
    },
    {
     "name": "stdout",
     "output_type": "stream",
     "text": [
      "########################################### 600\n"
     ]
    },
    {
     "name": "stderr",
     "output_type": "stream",
     "text": [
      "C:\\Users\\ASUS\\Anaconda3\\lib\\site-packages\\sklearn\\utils\\validation.py:724: DataConversionWarning: A column-vector y was passed when a 1d array was expected. Please change the shape of y to (n_samples, ), for example using ravel().\n",
      "  y = column_or_1d(y, warn=True)\n"
     ]
    },
    {
     "name": "stdout",
     "output_type": "stream",
     "text": [
      "########################################### 700\n"
     ]
    },
    {
     "name": "stderr",
     "output_type": "stream",
     "text": [
      "C:\\Users\\ASUS\\Anaconda3\\lib\\site-packages\\sklearn\\utils\\validation.py:724: DataConversionWarning: A column-vector y was passed when a 1d array was expected. Please change the shape of y to (n_samples, ), for example using ravel().\n",
      "  y = column_or_1d(y, warn=True)\n"
     ]
    },
    {
     "name": "stdout",
     "output_type": "stream",
     "text": [
      "########################################### 800\n"
     ]
    },
    {
     "name": "stderr",
     "output_type": "stream",
     "text": [
      "C:\\Users\\ASUS\\Anaconda3\\lib\\site-packages\\sklearn\\utils\\validation.py:724: DataConversionWarning: A column-vector y was passed when a 1d array was expected. Please change the shape of y to (n_samples, ), for example using ravel().\n",
      "  y = column_or_1d(y, warn=True)\n"
     ]
    },
    {
     "name": "stdout",
     "output_type": "stream",
     "text": [
      "########################################### 900\n"
     ]
    },
    {
     "name": "stderr",
     "output_type": "stream",
     "text": [
      "C:\\Users\\ASUS\\Anaconda3\\lib\\site-packages\\sklearn\\utils\\validation.py:724: DataConversionWarning: A column-vector y was passed when a 1d array was expected. Please change the shape of y to (n_samples, ), for example using ravel().\n",
      "  y = column_or_1d(y, warn=True)\n"
     ]
    },
    {
     "name": "stdout",
     "output_type": "stream",
     "text": [
      "########################################### 1000\n"
     ]
    },
    {
     "name": "stderr",
     "output_type": "stream",
     "text": [
      "C:\\Users\\ASUS\\Anaconda3\\lib\\site-packages\\sklearn\\utils\\validation.py:724: DataConversionWarning: A column-vector y was passed when a 1d array was expected. Please change the shape of y to (n_samples, ), for example using ravel().\n",
      "  y = column_or_1d(y, warn=True)\n"
     ]
    },
    {
     "name": "stdout",
     "output_type": "stream",
     "text": [
      "########################################### 1100\n"
     ]
    },
    {
     "name": "stderr",
     "output_type": "stream",
     "text": [
      "C:\\Users\\ASUS\\Anaconda3\\lib\\site-packages\\sklearn\\utils\\validation.py:724: DataConversionWarning: A column-vector y was passed when a 1d array was expected. Please change the shape of y to (n_samples, ), for example using ravel().\n",
      "  y = column_or_1d(y, warn=True)\n"
     ]
    },
    {
     "name": "stdout",
     "output_type": "stream",
     "text": [
      "########################################### 1200\n"
     ]
    },
    {
     "name": "stderr",
     "output_type": "stream",
     "text": [
      "C:\\Users\\ASUS\\Anaconda3\\lib\\site-packages\\sklearn\\utils\\validation.py:724: DataConversionWarning: A column-vector y was passed when a 1d array was expected. Please change the shape of y to (n_samples, ), for example using ravel().\n",
      "  y = column_or_1d(y, warn=True)\n"
     ]
    },
    {
     "name": "stdout",
     "output_type": "stream",
     "text": [
      "########################################### 1300\n"
     ]
    },
    {
     "name": "stderr",
     "output_type": "stream",
     "text": [
      "C:\\Users\\ASUS\\Anaconda3\\lib\\site-packages\\sklearn\\utils\\validation.py:724: DataConversionWarning: A column-vector y was passed when a 1d array was expected. Please change the shape of y to (n_samples, ), for example using ravel().\n",
      "  y = column_or_1d(y, warn=True)\n"
     ]
    },
    {
     "name": "stdout",
     "output_type": "stream",
     "text": [
      "########################################### 1400\n"
     ]
    },
    {
     "name": "stderr",
     "output_type": "stream",
     "text": [
      "C:\\Users\\ASUS\\Anaconda3\\lib\\site-packages\\sklearn\\utils\\validation.py:724: DataConversionWarning: A column-vector y was passed when a 1d array was expected. Please change the shape of y to (n_samples, ), for example using ravel().\n",
      "  y = column_or_1d(y, warn=True)\n"
     ]
    },
    {
     "name": "stdout",
     "output_type": "stream",
     "text": [
      "########################################### 1500\n"
     ]
    },
    {
     "name": "stderr",
     "output_type": "stream",
     "text": [
      "C:\\Users\\ASUS\\Anaconda3\\lib\\site-packages\\sklearn\\utils\\validation.py:724: DataConversionWarning: A column-vector y was passed when a 1d array was expected. Please change the shape of y to (n_samples, ), for example using ravel().\n",
      "  y = column_or_1d(y, warn=True)\n"
     ]
    },
    {
     "name": "stdout",
     "output_type": "stream",
     "text": [
      "########################################### 1600\n"
     ]
    },
    {
     "name": "stderr",
     "output_type": "stream",
     "text": [
      "C:\\Users\\ASUS\\Anaconda3\\lib\\site-packages\\sklearn\\utils\\validation.py:724: DataConversionWarning: A column-vector y was passed when a 1d array was expected. Please change the shape of y to (n_samples, ), for example using ravel().\n",
      "  y = column_or_1d(y, warn=True)\n"
     ]
    },
    {
     "name": "stdout",
     "output_type": "stream",
     "text": [
      "########################################### 1700\n"
     ]
    },
    {
     "name": "stderr",
     "output_type": "stream",
     "text": [
      "C:\\Users\\ASUS\\Anaconda3\\lib\\site-packages\\sklearn\\utils\\validation.py:724: DataConversionWarning: A column-vector y was passed when a 1d array was expected. Please change the shape of y to (n_samples, ), for example using ravel().\n",
      "  y = column_or_1d(y, warn=True)\n"
     ]
    },
    {
     "name": "stdout",
     "output_type": "stream",
     "text": [
      "########################################### 1800\n"
     ]
    },
    {
     "name": "stderr",
     "output_type": "stream",
     "text": [
      "C:\\Users\\ASUS\\Anaconda3\\lib\\site-packages\\sklearn\\utils\\validation.py:724: DataConversionWarning: A column-vector y was passed when a 1d array was expected. Please change the shape of y to (n_samples, ), for example using ravel().\n",
      "  y = column_or_1d(y, warn=True)\n"
     ]
    },
    {
     "name": "stdout",
     "output_type": "stream",
     "text": [
      "########################################### 1900\n"
     ]
    },
    {
     "name": "stderr",
     "output_type": "stream",
     "text": [
      "C:\\Users\\ASUS\\Anaconda3\\lib\\site-packages\\sklearn\\utils\\validation.py:724: DataConversionWarning: A column-vector y was passed when a 1d array was expected. Please change the shape of y to (n_samples, ), for example using ravel().\n",
      "  y = column_or_1d(y, warn=True)\n"
     ]
    },
    {
     "name": "stdout",
     "output_type": "stream",
     "text": [
      "########################################### 2000\n"
     ]
    },
    {
     "name": "stderr",
     "output_type": "stream",
     "text": [
      "C:\\Users\\ASUS\\Anaconda3\\lib\\site-packages\\sklearn\\utils\\validation.py:724: DataConversionWarning: A column-vector y was passed when a 1d array was expected. Please change the shape of y to (n_samples, ), for example using ravel().\n",
      "  y = column_or_1d(y, warn=True)\n"
     ]
    },
    {
     "name": "stdout",
     "output_type": "stream",
     "text": [
      "########################################### 2100\n"
     ]
    },
    {
     "name": "stderr",
     "output_type": "stream",
     "text": [
      "C:\\Users\\ASUS\\Anaconda3\\lib\\site-packages\\sklearn\\utils\\validation.py:724: DataConversionWarning: A column-vector y was passed when a 1d array was expected. Please change the shape of y to (n_samples, ), for example using ravel().\n",
      "  y = column_or_1d(y, warn=True)\n"
     ]
    },
    {
     "name": "stdout",
     "output_type": "stream",
     "text": [
      "########################################### 2200\n"
     ]
    },
    {
     "name": "stderr",
     "output_type": "stream",
     "text": [
      "C:\\Users\\ASUS\\Anaconda3\\lib\\site-packages\\sklearn\\utils\\validation.py:724: DataConversionWarning: A column-vector y was passed when a 1d array was expected. Please change the shape of y to (n_samples, ), for example using ravel().\n",
      "  y = column_or_1d(y, warn=True)\n"
     ]
    },
    {
     "name": "stdout",
     "output_type": "stream",
     "text": [
      "########################################### 2300\n"
     ]
    },
    {
     "name": "stderr",
     "output_type": "stream",
     "text": [
      "C:\\Users\\ASUS\\Anaconda3\\lib\\site-packages\\sklearn\\utils\\validation.py:724: DataConversionWarning: A column-vector y was passed when a 1d array was expected. Please change the shape of y to (n_samples, ), for example using ravel().\n",
      "  y = column_or_1d(y, warn=True)\n"
     ]
    },
    {
     "name": "stdout",
     "output_type": "stream",
     "text": [
      "########################################### 2400\n"
     ]
    },
    {
     "name": "stderr",
     "output_type": "stream",
     "text": [
      "C:\\Users\\ASUS\\Anaconda3\\lib\\site-packages\\sklearn\\utils\\validation.py:724: DataConversionWarning: A column-vector y was passed when a 1d array was expected. Please change the shape of y to (n_samples, ), for example using ravel().\n",
      "  y = column_or_1d(y, warn=True)\n"
     ]
    },
    {
     "name": "stdout",
     "output_type": "stream",
     "text": [
      "########################################### 2500\n"
     ]
    },
    {
     "name": "stderr",
     "output_type": "stream",
     "text": [
      "C:\\Users\\ASUS\\Anaconda3\\lib\\site-packages\\sklearn\\utils\\validation.py:724: DataConversionWarning: A column-vector y was passed when a 1d array was expected. Please change the shape of y to (n_samples, ), for example using ravel().\n",
      "  y = column_or_1d(y, warn=True)\n"
     ]
    },
    {
     "name": "stdout",
     "output_type": "stream",
     "text": [
      "########################################### 2600\n"
     ]
    },
    {
     "name": "stderr",
     "output_type": "stream",
     "text": [
      "C:\\Users\\ASUS\\Anaconda3\\lib\\site-packages\\sklearn\\utils\\validation.py:724: DataConversionWarning: A column-vector y was passed when a 1d array was expected. Please change the shape of y to (n_samples, ), for example using ravel().\n",
      "  y = column_or_1d(y, warn=True)\n"
     ]
    },
    {
     "name": "stdout",
     "output_type": "stream",
     "text": [
      "########################################### 2700\n"
     ]
    },
    {
     "name": "stderr",
     "output_type": "stream",
     "text": [
      "C:\\Users\\ASUS\\Anaconda3\\lib\\site-packages\\sklearn\\utils\\validation.py:724: DataConversionWarning: A column-vector y was passed when a 1d array was expected. Please change the shape of y to (n_samples, ), for example using ravel().\n",
      "  y = column_or_1d(y, warn=True)\n"
     ]
    },
    {
     "name": "stdout",
     "output_type": "stream",
     "text": [
      "########################################### 2800\n"
     ]
    },
    {
     "name": "stderr",
     "output_type": "stream",
     "text": [
      "C:\\Users\\ASUS\\Anaconda3\\lib\\site-packages\\sklearn\\utils\\validation.py:724: DataConversionWarning: A column-vector y was passed when a 1d array was expected. Please change the shape of y to (n_samples, ), for example using ravel().\n",
      "  y = column_or_1d(y, warn=True)\n"
     ]
    },
    {
     "name": "stdout",
     "output_type": "stream",
     "text": [
      "########################################### 2900\n"
     ]
    },
    {
     "name": "stderr",
     "output_type": "stream",
     "text": [
      "C:\\Users\\ASUS\\Anaconda3\\lib\\site-packages\\sklearn\\utils\\validation.py:724: DataConversionWarning: A column-vector y was passed when a 1d array was expected. Please change the shape of y to (n_samples, ), for example using ravel().\n",
      "  y = column_or_1d(y, warn=True)\n"
     ]
    },
    {
     "name": "stdout",
     "output_type": "stream",
     "text": [
      "########################################### 3000\n"
     ]
    },
    {
     "name": "stderr",
     "output_type": "stream",
     "text": [
      "C:\\Users\\ASUS\\Anaconda3\\lib\\site-packages\\sklearn\\utils\\validation.py:724: DataConversionWarning: A column-vector y was passed when a 1d array was expected. Please change the shape of y to (n_samples, ), for example using ravel().\n",
      "  y = column_or_1d(y, warn=True)\n"
     ]
    },
    {
     "name": "stdout",
     "output_type": "stream",
     "text": [
      "########################################### 3100\n"
     ]
    },
    {
     "name": "stderr",
     "output_type": "stream",
     "text": [
      "C:\\Users\\ASUS\\Anaconda3\\lib\\site-packages\\sklearn\\utils\\validation.py:724: DataConversionWarning: A column-vector y was passed when a 1d array was expected. Please change the shape of y to (n_samples, ), for example using ravel().\n",
      "  y = column_or_1d(y, warn=True)\n"
     ]
    },
    {
     "name": "stdout",
     "output_type": "stream",
     "text": [
      "########################################### 3200\n"
     ]
    },
    {
     "name": "stderr",
     "output_type": "stream",
     "text": [
      "C:\\Users\\ASUS\\Anaconda3\\lib\\site-packages\\sklearn\\utils\\validation.py:724: DataConversionWarning: A column-vector y was passed when a 1d array was expected. Please change the shape of y to (n_samples, ), for example using ravel().\n",
      "  y = column_or_1d(y, warn=True)\n"
     ]
    },
    {
     "name": "stdout",
     "output_type": "stream",
     "text": [
      "########################################### 3300\n"
     ]
    },
    {
     "name": "stderr",
     "output_type": "stream",
     "text": [
      "C:\\Users\\ASUS\\Anaconda3\\lib\\site-packages\\sklearn\\utils\\validation.py:724: DataConversionWarning: A column-vector y was passed when a 1d array was expected. Please change the shape of y to (n_samples, ), for example using ravel().\n",
      "  y = column_or_1d(y, warn=True)\n"
     ]
    },
    {
     "name": "stdout",
     "output_type": "stream",
     "text": [
      "########################################### 3400\n"
     ]
    },
    {
     "name": "stderr",
     "output_type": "stream",
     "text": [
      "C:\\Users\\ASUS\\Anaconda3\\lib\\site-packages\\sklearn\\utils\\validation.py:724: DataConversionWarning: A column-vector y was passed when a 1d array was expected. Please change the shape of y to (n_samples, ), for example using ravel().\n",
      "  y = column_or_1d(y, warn=True)\n"
     ]
    },
    {
     "name": "stdout",
     "output_type": "stream",
     "text": [
      "########################################### 3500\n"
     ]
    },
    {
     "name": "stderr",
     "output_type": "stream",
     "text": [
      "C:\\Users\\ASUS\\Anaconda3\\lib\\site-packages\\sklearn\\utils\\validation.py:724: DataConversionWarning: A column-vector y was passed when a 1d array was expected. Please change the shape of y to (n_samples, ), for example using ravel().\n",
      "  y = column_or_1d(y, warn=True)\n"
     ]
    },
    {
     "name": "stdout",
     "output_type": "stream",
     "text": [
      "########################################### 3600\n"
     ]
    },
    {
     "name": "stderr",
     "output_type": "stream",
     "text": [
      "C:\\Users\\ASUS\\Anaconda3\\lib\\site-packages\\sklearn\\utils\\validation.py:724: DataConversionWarning: A column-vector y was passed when a 1d array was expected. Please change the shape of y to (n_samples, ), for example using ravel().\n",
      "  y = column_or_1d(y, warn=True)\n"
     ]
    },
    {
     "name": "stdout",
     "output_type": "stream",
     "text": [
      "########################################### 3700\n"
     ]
    },
    {
     "name": "stderr",
     "output_type": "stream",
     "text": [
      "C:\\Users\\ASUS\\Anaconda3\\lib\\site-packages\\sklearn\\utils\\validation.py:724: DataConversionWarning: A column-vector y was passed when a 1d array was expected. Please change the shape of y to (n_samples, ), for example using ravel().\n",
      "  y = column_or_1d(y, warn=True)\n"
     ]
    },
    {
     "name": "stdout",
     "output_type": "stream",
     "text": [
      "########################################### 3800\n"
     ]
    },
    {
     "name": "stderr",
     "output_type": "stream",
     "text": [
      "C:\\Users\\ASUS\\Anaconda3\\lib\\site-packages\\sklearn\\utils\\validation.py:724: DataConversionWarning: A column-vector y was passed when a 1d array was expected. Please change the shape of y to (n_samples, ), for example using ravel().\n",
      "  y = column_or_1d(y, warn=True)\n"
     ]
    },
    {
     "name": "stdout",
     "output_type": "stream",
     "text": [
      "########################################### 3900\n"
     ]
    },
    {
     "name": "stderr",
     "output_type": "stream",
     "text": [
      "C:\\Users\\ASUS\\Anaconda3\\lib\\site-packages\\sklearn\\utils\\validation.py:724: DataConversionWarning: A column-vector y was passed when a 1d array was expected. Please change the shape of y to (n_samples, ), for example using ravel().\n",
      "  y = column_or_1d(y, warn=True)\n"
     ]
    },
    {
     "name": "stdout",
     "output_type": "stream",
     "text": [
      "########################################### 4000\n"
     ]
    },
    {
     "name": "stderr",
     "output_type": "stream",
     "text": [
      "C:\\Users\\ASUS\\Anaconda3\\lib\\site-packages\\sklearn\\utils\\validation.py:724: DataConversionWarning: A column-vector y was passed when a 1d array was expected. Please change the shape of y to (n_samples, ), for example using ravel().\n",
      "  y = column_or_1d(y, warn=True)\n"
     ]
    },
    {
     "name": "stdout",
     "output_type": "stream",
     "text": [
      "########################################### 4100\n"
     ]
    },
    {
     "name": "stderr",
     "output_type": "stream",
     "text": [
      "C:\\Users\\ASUS\\Anaconda3\\lib\\site-packages\\sklearn\\utils\\validation.py:724: DataConversionWarning: A column-vector y was passed when a 1d array was expected. Please change the shape of y to (n_samples, ), for example using ravel().\n",
      "  y = column_or_1d(y, warn=True)\n"
     ]
    },
    {
     "name": "stdout",
     "output_type": "stream",
     "text": [
      "########################################### 4200\n"
     ]
    },
    {
     "name": "stderr",
     "output_type": "stream",
     "text": [
      "C:\\Users\\ASUS\\Anaconda3\\lib\\site-packages\\sklearn\\utils\\validation.py:724: DataConversionWarning: A column-vector y was passed when a 1d array was expected. Please change the shape of y to (n_samples, ), for example using ravel().\n",
      "  y = column_or_1d(y, warn=True)\n"
     ]
    },
    {
     "name": "stdout",
     "output_type": "stream",
     "text": [
      "########################################### 4300\n"
     ]
    },
    {
     "name": "stderr",
     "output_type": "stream",
     "text": [
      "C:\\Users\\ASUS\\Anaconda3\\lib\\site-packages\\sklearn\\utils\\validation.py:724: DataConversionWarning: A column-vector y was passed when a 1d array was expected. Please change the shape of y to (n_samples, ), for example using ravel().\n",
      "  y = column_or_1d(y, warn=True)\n"
     ]
    },
    {
     "name": "stdout",
     "output_type": "stream",
     "text": [
      "########################################### 4400\n"
     ]
    },
    {
     "name": "stderr",
     "output_type": "stream",
     "text": [
      "C:\\Users\\ASUS\\Anaconda3\\lib\\site-packages\\sklearn\\utils\\validation.py:724: DataConversionWarning: A column-vector y was passed when a 1d array was expected. Please change the shape of y to (n_samples, ), for example using ravel().\n",
      "  y = column_or_1d(y, warn=True)\n"
     ]
    },
    {
     "name": "stdout",
     "output_type": "stream",
     "text": [
      "########################################### 4500\n"
     ]
    },
    {
     "name": "stderr",
     "output_type": "stream",
     "text": [
      "C:\\Users\\ASUS\\Anaconda3\\lib\\site-packages\\sklearn\\utils\\validation.py:724: DataConversionWarning: A column-vector y was passed when a 1d array was expected. Please change the shape of y to (n_samples, ), for example using ravel().\n",
      "  y = column_or_1d(y, warn=True)\n"
     ]
    },
    {
     "data": {
      "image/png": "[encoded data removed]",
      "text/plain": [
       "<Figure size 432x288 with 2 Axes>"
      ]
     },
     "metadata": {
      "needs_background": "light"
     },
     "output_type": "display_data"
    },
    {
     "data": {
      "image/png": "[encoded data removed]",
      "text/plain": [
       "<Figure size 432x288 with 2 Axes>"
      ]
     },
     "metadata": {
      "needs_background": "light"
     },
     "output_type": "display_data"
    }
   ],
   "source": [
    "import numpy as np\n",
    "import pandas as pd\n",
    "import time\n",
    "import matplotlib.pyplot as plt\n",
    "from sklearn.naive_bayes import BernoulliNB\n",
    "\n",
    "num_itr = 30\n",
    "\n",
    "\n",
    "def sigmoid(X, weight):\n",
    "    z = np.dot(X, weight)\n",
    "    return 1 / (1 + np.exp(-z))\n",
    "\n",
    "\n",
    "def gradient_ascent(X, h, y):\n",
    "    grad = np.dot(X.T, y - h)\n",
    "    return grad\n",
    "\n",
    "\n",
    "def update_weight_mle(weight, learning_rate, gradient):\n",
    "    return weight + learning_rate * gradient\n",
    "\n",
    "\n",
    "def update_weight_mle_regularization(weight, learning_rate, gradient, landa):\n",
    "    return weight + learning_rate * gradient - learning_rate * landa * weight\n",
    "\n",
    "\n",
    "df = pd.read_csv('train.csv', header=None).astype(int)\n",
    "df_label = pd.read_table('train_labels.txt', header=None).astype(int)\n",
    "data = pd.concat([df, df_label], axis=1)\n",
    "data = data.sample(frac=1)\n",
    "\n",
    "test = pd.read_csv('test.csv', header=None)\n",
    "test_label = pd.read_table('test_labels.txt', header=None)\n",
    "\n",
    "LR_train = []\n",
    "LR_test = []\n",
    "NB_train = []\n",
    "NB_test = []\n",
    "x_axis = []\n",
    "train_accus = []\n",
    "train_accus_reg = []\n",
    "test_accus = []\n",
    "test_accus_reg = []\n",
    "\n",
    "#for i in range(50, len(df), step=50):\n",
    "j = 50\n",
    "print(len(data), '1')\n",
    "while j < len(data):\n",
    "    j += 50\n",
    "   \n",
    "    x_axis.append(j)\n",
    "\n",
    "    tmp = data.sample(n=j)\n",
    "    train, validation = tmp.iloc[0:int(0.8*len(tmp))], tmp.iloc[int(0.8*len(tmp)):]\n",
    "\n",
    "    # Train data set\n",
    "    X_train = train.iloc[:, 0:5180].copy()\n",
    "    intercept = np.ones((X_train.shape[0], 1))\n",
    "    X = np.concatenate((intercept, X_train), axis=1)\n",
    "    Y = train.iloc[:, -1].copy()\n",
    "    Y = pd.DataFrame(Y)\n",
    "    W = np.zeros((X.shape[1], 1))\n",
    "\n",
    "    # Validation data set\n",
    "    X_val = validation.iloc[:, 0:5180].copy()\n",
    "    intercept = np.ones((X_val.shape[0], 1))\n",
    "    X_v = np.concatenate((intercept, X_val), axis=1)\n",
    "    Y_v = validation.iloc[:, -1].copy()\n",
    "    Y_v = pd.DataFrame(Y_v)\n",
    "\n",
    "    # Test data set\n",
    "    X_test = test.copy()\n",
    "    intercept = np.ones((X_test.shape[0], 1))\n",
    "    X_t = np.concatenate((intercept, X_test), axis=1)\n",
    "    Y_t = test_label.copy()\n",
    "\n",
    "\n",
    "    ####################################### NAIVE BAYES CLF\n",
    "    # model = GaussianNB()\n",
    "    # model = MultinomialNB()\n",
    "\n",
    "    start_time = time.time()\n",
    "    model = BernoulliNB(fit_prior=True)\n",
    "    model.fit(X_train, Y)\n",
    "    # model.fit(df, df_label)\n",
    "\n",
    "    predict_v = model.predict(X_val)\n",
    "    predict_t = model.predict(X_test)\n",
    "    predict_v = pd.DataFrame(predict_v)\n",
    "    predict_t = pd.DataFrame(predict_t)\n",
    "\n",
    "    n = pd.concat([Y_v, predict_v], axis=1, ignore_index=True)\n",
    "    m = pd.concat([Y_t, predict_v], axis=1, ignore_index=True)\n",
    "    NB_train.append(n[n[0] == n[1]].shape[0] / n.shape[0] * 100)\n",
    "    NB_test.append(m[m[0] == m[1]].shape[0] / m.shape[0] * 100)\n",
    "  \n",
    "\n",
    "    ####################################### LOGISTIC REGRESSION CLF\n",
    "\n",
    "    start_time = time.time()\n",
    "\n",
    "    for i in range(num_itr):\n",
    "        H = sigmoid(X, W)\n",
    "        gradient = gradient_ascent(X, H, Y)\n",
    "        W = update_weight_mle(W, 0.1, gradient)\n",
    "        W_regularization = update_weight_mle_regularization(W, 0.1, gradient, 0.3) ## landa = 0.5\n",
    "        #result = sigmoid(X_v, W)\n",
    "\n",
    "        ## validation data accuracy\n",
    "        result = sigmoid(X_v, W)\n",
    "        result_reg = sigmoid(X_v, W_regularization)\n",
    "        comp = np.concatenate((result, Y_v), axis=1)\n",
    "        comp_reg = np.concatenate((result_reg, Y_v), axis=1)\n",
    "        f = pd.DataFrame(comp)\n",
    "        f_reg = pd.DataFrame(comp_reg)\n",
    "        f['pred'] = f[0].apply(lambda x: 0 if x < 0.5 else 1)\n",
    "        f_reg['pred'] = f_reg[0].apply(lambda x: 0 if x < 0.5 else 1)\n",
    "        accuracy = f.loc[f['pred'] == f[1].astype(int)].shape[0]/f.shape[0] * 100\n",
    "        accuracy_reg = f_reg.loc[f_reg['pred'] == f_reg[1].astype(int)].shape[0] / f_reg.shape[0] * 100\n",
    "        train_accus.append(accuracy)\n",
    "        train_accus_reg.append(accuracy_reg)\n",
    "\n",
    "\n",
    "        ## test data accuracy\n",
    "        test_result = sigmoid(X_t, W)\n",
    "        test_reg_result = sigmoid(X_t, W_regularization)\n",
    "        comp = np.concatenate((test_result, Y_t), axis=1)\n",
    "        comp_reg = np.concatenate((test_reg_result, Y_t), axis=1)\n",
    "        f = pd.DataFrame(comp)\n",
    "        f_reg = pd.DataFrame(comp_reg)\n",
    "        f['pred'] = f[0].apply(lambda x: 0 if x < 0.5 else 1)\n",
    "        f_reg['pred'] = f_reg[0].apply(lambda x: 0 if x < 0.5 else 1)\n",
    "        test_accuracy = f.loc[f['pred'] == f[1].astype(int)].shape[0] / f.shape[0] * 100\n",
    "        test_accuracy_reg = f_reg.loc[f_reg['pred'] == f_reg[1].astype(int)].shape[0] / f_reg.shape[0] * 100\n",
    "        test_accus.append(test_accuracy)\n",
    "        test_accus_reg.append(test_accuracy_reg)\n",
    "\n",
    "\n",
    "    max_ind = np.argmax(train_accus)\n",
    "    max_ind_reg = np.argmax(train_accus_reg)\n",
    "    test_max_ind = np.argmax(test_accus)\n",
    "    test_max_ind_reg = np.argmax(test_accus_reg)\n",
    "    LR_train.append(max(train_accus_reg[max_ind_reg], train_accus[max_ind]))\n",
    "    LR_test.append(max(test_accus_reg[test_max_ind_reg], test_accus[test_max_ind]))\n",
    "\n",
    "\n",
    "    train_accus.clear()\n",
    "    train_accus_reg.clear()\n",
    "    test_accus.clear()\n",
    "    test_accus_reg.clear()\n",
    "    j += 50\n",
    "\n",
    "plt.figure()\n",
    "plt.subplot(211)\n",
    "plt.plot(x_axis, NB_train)\n",
    "plt.ylabel('Number of Instances')\n",
    "plt.xlabel('Naive Bayes Train Accuracy')\n",
    "plt.subplot(212)\n",
    "plt.plot(x_axis, NB_test)\n",
    "plt.ylabel('Number of Instances')\n",
    "plt.xlabel('Naive Bayes Test Accuracy')\n",
    "\n",
    "plt.figure(2)\n",
    "plt.subplot(211)\n",
    "plt.plot(x_axis, LR_train)\n",
    "plt.ylabel('Number of Instances')\n",
    "plt.xlabel('Logistic Regression Train Accuracy')\n",
    "plt.subplot(212)\n",
    "plt.plot(x_axis, LR_test)\n",
    "plt.ylabel('Number of Instances')\n",
    "plt.xlabel('Logistic Regression Test Accuracy')\n",
    "\n",
    "plt.show()\n"
   ]
  },
  {
   "cell_type": "code",
   "execution_count": null,
   "metadata": {},
   "outputs": [],
   "source": []
  }
 ],
 "metadata": {
  "kernelspec": {
   "display_name": "Python 3",
   "language": "python",
   "name": "python3"
  },
  "language_info": {
   "codemirror_mode": {
    "name": "ipython",
    "version": 3
   },
   "file_extension": ".py",
   "mimetype": "text/x-python",
   "name": "python",
   "nbconvert_exporter": "python",
   "pygments_lexer": "ipython3",
   "version": "3.8.5"
  }
 },
 "nbformat": 4,
 "nbformat_minor": 2
}
