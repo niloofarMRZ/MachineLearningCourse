{
 "cells": [
  {
   "cell_type": "code",
   "execution_count": 2,
   "metadata": {
    "colab": {},
    "colab_type": "code",
    "executionInfo": {
     "elapsed": 2484,
     "status": "ok",
     "timestamp": 1595528038103,
     "user": {
      "displayName": "Amir Etefaghi",
      "photoUrl": "https://lh3.googleusercontent.com/a-/AOh14GgY4KSXhWUixmSgcnPphwGAYwThETYcobjpktx5=s64",
      "userId": "12738767302084939691"
     },
     "user_tz": -270
    },
    "id": "PNJkBc7-SsRe"
   },
   "outputs": [],
   "source": [
    "import numpy as np\n",
    "import pandas as pd\n",
    "from sklearn.svm import LinearSVC\n",
    "from sklearn.svm import SVC\n",
    "from sklearn.metrics import confusion_matrix\n",
    "from sklearn.naive_bayes import GaussianNB"
   ]
  },
  {
   "cell_type": "code",
   "execution_count": 3,
   "metadata": {
    "colab": {},
    "colab_type": "code",
    "executionInfo": {
     "elapsed": 3731,
     "status": "ok",
     "timestamp": 1595528039578,
     "user": {
      "displayName": "Amir Etefaghi",
      "photoUrl": "https://lh3.googleusercontent.com/a-/AOh14GgY4KSXhWUixmSgcnPphwGAYwThETYcobjpktx5=s64",
      "userId": "12738767302084939691"
     },
     "user_tz": -270
    },
    "id": "ydGG4HGpGir8"
   },
   "outputs": [],
   "source": [
    "from sklearn.preprocessing import LabelBinarizer\n",
    "from sklearn.preprocessing import MultiLabelBinarizer\n",
    "from sklearn.preprocessing import OneHotEncoder"
   ]
  },
  {
   "cell_type": "code",
   "execution_count": 4,
   "metadata": {
    "colab": {},
    "colab_type": "code",
    "executionInfo": {
     "elapsed": 3471,
     "status": "ok",
     "timestamp": 1595528039581,
     "user": {
      "displayName": "Amir Etefaghi",
      "photoUrl": "https://lh3.googleusercontent.com/a-/AOh14GgY4KSXhWUixmSgcnPphwGAYwThETYcobjpktx5=s64",
      "userId": "12738767302084939691"
     },
     "user_tz": -270
    },
    "id": "IZl38JprqbO-"
   },
   "outputs": [],
   "source": [
    "import matplotlib.pyplot as plt"
   ]
  },
  {
   "cell_type": "code",
   "execution_count": 149,
   "metadata": {
    "colab": {},
    "colab_type": "code",
    "executionInfo": {
     "elapsed": 1043,
     "status": "ok",
     "timestamp": 1595537213181,
     "user": {
      "displayName": "Amir Etefaghi",
      "photoUrl": "https://lh3.googleusercontent.com/a-/AOh14GgY4KSXhWUixmSgcnPphwGAYwThETYcobjpktx5=s64",
      "userId": "12738767302084939691"
     },
     "user_tz": -270
    },
    "id": "UGdUoxRMp7yg"
   },
   "outputs": [],
   "source": [
    "x = np.random.randint(-20, high=21, size=1000)\n",
    "y = np.random.randint(-20, high=21, size=1000)\n",
    "numb = 100\n",
    "data1 = np.zeros((np.int(numb/2),2))\n",
    "c = 0\n",
    "for i in range(1000):\n",
    "  if (x[i]**2 + y[i]**2)<10**2:\n",
    "    if ~np.any(np.all(data1[:,:] == [x[i] , y[i]] , axis=1)):\n",
    "      data1[c , 0] = x[i]\n",
    "      data1[c , 1] = y[i]\n",
    "\n",
    "      c += 1\n",
    "\n",
    "  if c == numb/2:\n",
    "    break\n",
    "\n",
    "C = 0\n",
    "\n",
    "data2 = np.zeros((np.int(numb/2),2))\n",
    "\n",
    "for i in range(1000):\n",
    "  if (x[i]**2 + y[i]**2)>10**2 and (x[i]**2 + y[i]**2)<20**2 :\n",
    "    if ~np.any(np.all(data2[:,:] == [x[i] , y[i]] , axis=1)):\n",
    "      data2[C , 0] = x[i]\n",
    "      data2[C , 1] = y[i]\n",
    "\n",
    "      C += 1\n",
    "\n",
    "  if C == c:\n",
    "    break\n",
    "    "
   ]
  },
  {
   "cell_type": "code",
   "execution_count": 150,
   "metadata": {
    "colab": {
     "base_uri": "https://localhost:8080/",
     "height": 282
    },
    "colab_type": "code",
    "executionInfo": {
     "elapsed": 1757,
     "status": "ok",
     "timestamp": 1595537215530,
     "user": {
      "displayName": "Amir Etefaghi",
      "photoUrl": "https://lh3.googleusercontent.com/a-/AOh14GgY4KSXhWUixmSgcnPphwGAYwThETYcobjpktx5=s64",
      "userId": "12738767302084939691"
     },
     "user_tz": -270
    },
    "id": "ePU-FKxCzH2M",
    "outputId": "846418d1-618c-47eb-eb9f-55b8c6473be9"
   },
   "outputs": [
    {
     "data": {
      "text/plain": [
       "<matplotlib.patches.Circle at 0x7f9675023b70>"
      ]
     },
     "execution_count": 150,
     "metadata": {
      "tags": []
     },
     "output_type": "execute_result"
    },
    {
     "data": {
      "image/png": "[encoded data removed]",
      "text/plain": [
       "<Figure size 432x288 with 1 Axes>"
      ]
     },
     "metadata": {
      "needs_background": "light",
      "tags": []
     },
     "output_type": "display_data"
    }
   ],
   "source": [
    "circle = plt.Circle((0,0),10,fill=False)\n",
    "fig , ax = plt.subplots()\n",
    "ax.plot(data1[:,0],data1[:,1],'x')\n",
    "ax.plot(data2[:,0],data2[:,1],'o')\n",
    "ax.add_artist(circle)\n",
    "# plt.ylim(-10,10)\n",
    "# plt.xlim(-10,10)"
   ]
  },
  {
   "cell_type": "code",
   "execution_count": 151,
   "metadata": {
    "colab": {},
    "colab_type": "code",
    "executionInfo": {
     "elapsed": 955,
     "status": "ok",
     "timestamp": 1595537218217,
     "user": {
      "displayName": "Amir Etefaghi",
      "photoUrl": "https://lh3.googleusercontent.com/a-/AOh14GgY4KSXhWUixmSgcnPphwGAYwThETYcobjpktx5=s64",
      "userId": "12738767302084939691"
     },
     "user_tz": -270
    },
    "id": "zmU5w2QdzcPm"
   },
   "outputs": [],
   "source": [
    "dataset = np.zeros((numb,2))\n",
    "labels = np.zeros(numb,)\n",
    "dataset[:int(numb/2),:]=data1\n",
    "dataset[int(numb/2):,:]=data2\n",
    "labels[:int(numb/2)] = 1\n",
    "labels[int(numb/2):] = -1"
   ]
  },
  {
   "cell_type": "code",
   "execution_count": 152,
   "metadata": {
    "colab": {},
    "colab_type": "code",
    "executionInfo": {
     "elapsed": 755,
     "status": "ok",
     "timestamp": 1595537219497,
     "user": {
      "displayName": "Amir Etefaghi",
      "photoUrl": "https://lh3.googleusercontent.com/a-/AOh14GgY4KSXhWUixmSgcnPphwGAYwThETYcobjpktx5=s64",
      "userId": "12738767302084939691"
     },
     "user_tz": -270
    },
    "id": "PTMAUsk-JhLK"
   },
   "outputs": [],
   "source": [
    "index = np.arange(numb)\n",
    "np.random.shuffle(index)"
   ]
  },
  {
   "cell_type": "code",
   "execution_count": 153,
   "metadata": {
    "colab": {},
    "colab_type": "code",
    "executionInfo": {
     "elapsed": 724,
     "status": "ok",
     "timestamp": 1595537220730,
     "user": {
      "displayName": "Amir Etefaghi",
      "photoUrl": "https://lh3.googleusercontent.com/a-/AOh14GgY4KSXhWUixmSgcnPphwGAYwThETYcobjpktx5=s64",
      "userId": "12738767302084939691"
     },
     "user_tz": -270
    },
    "id": "gzPHvIPrKrGe"
   },
   "outputs": [],
   "source": [
    "cc1 = np.int(0.8*numb)\n",
    "cc2 = np.int(0.9*numb)\n",
    "X_train = dataset[index[:cc1],:]\n",
    "X_test  = dataset[index[cc1:cc2],:]\n",
    "X_val   = dataset[index[cc2:],:]\n",
    "Y_train = labels[index[:cc1]]\n",
    "Y_test = labels[index[cc1:cc2]]\n",
    "Y_val = labels[index[cc2:]]"
   ]
  },
  {
   "cell_type": "code",
   "execution_count": 154,
   "metadata": {
    "colab": {
     "base_uri": "https://localhost:8080/",
     "height": 51
    },
    "colab_type": "code",
    "executionInfo": {
     "elapsed": 678,
     "status": "ok",
     "timestamp": 1595537221950,
     "user": {
      "displayName": "Amir Etefaghi",
      "photoUrl": "https://lh3.googleusercontent.com/a-/AOh14GgY4KSXhWUixmSgcnPphwGAYwThETYcobjpktx5=s64",
      "userId": "12738767302084939691"
     },
     "user_tz": -270
    },
    "id": "nI85kRRAIfDi",
    "outputId": "096093cb-d2f0-4670-8d79-8c947dfd25f7"
   },
   "outputs": [
    {
     "name": "stdout",
     "output_type": "stream",
     "text": [
      "0.6375\n",
      "0.4\n"
     ]
    }
   ],
   "source": [
    "linsvc = SVC(C=20 , kernel='linear')\n",
    "model = linsvc.fit(X_train,Y_train)\n",
    "print(model.score(X_train,Y_train))\n",
    "print(model.score(X_test,Y_test))"
   ]
  },
  {
   "cell_type": "code",
   "execution_count": 155,
   "metadata": {
    "colab": {},
    "colab_type": "code",
    "executionInfo": {
     "elapsed": 930,
     "status": "ok",
     "timestamp": 1595537224202,
     "user": {
      "displayName": "Amir Etefaghi",
      "photoUrl": "https://lh3.googleusercontent.com/a-/AOh14GgY4KSXhWUixmSgcnPphwGAYwThETYcobjpktx5=s64",
      "userId": "12738767302084939691"
     },
     "user_tz": -270
    },
    "id": "uUEaDXR5YIPj"
   },
   "outputs": [],
   "source": [
    "crange = np.arange(0.1,1,0.1)\n",
    "train_accuracy = np.zeros(crange.shape[0])\n",
    "val_accuracy = np.zeros(crange.shape[0])\n",
    "i = 0\n",
    "for c in crange: \n",
    "  svc = SVC(C=c , kernel='linear')\n",
    "  model = svc.fit(X_train,Y_train)\n",
    "  train_accuracy[i] = model.score(X_train,Y_train)\n",
    "  val_accuracy[i] = model.score(X_val,Y_val)\n",
    "  i+=1\n"
   ]
  },
  {
   "cell_type": "code",
   "execution_count": 156,
   "metadata": {
    "colab": {
     "base_uri": "https://localhost:8080/",
     "height": 282
    },
    "colab_type": "code",
    "executionInfo": {
     "elapsed": 1349,
     "status": "ok",
     "timestamp": 1595537226077,
     "user": {
      "displayName": "Amir Etefaghi",
      "photoUrl": "https://lh3.googleusercontent.com/a-/AOh14GgY4KSXhWUixmSgcnPphwGAYwThETYcobjpktx5=s64",
      "userId": "12738767302084939691"
     },
     "user_tz": -270
    },
    "id": "YmYVjBg_YTIe",
    "outputId": "b5eea304-90d8-450b-87e4-34e4efb87351"
   },
   "outputs": [
    {
     "data": {
      "text/plain": [
       "[<matplotlib.lines.Line2D at 0x7f96741a3ac8>]"
      ]
     },
     "execution_count": 156,
     "metadata": {
      "tags": []
     },
     "output_type": "execute_result"
    },
    {
     "data": {
      "image/png": "[encoded data removed]",
      "text/plain": [
       "<Figure size 432x288 with 1 Axes>"
      ]
     },
     "metadata": {
      "needs_background": "light",
      "tags": []
     },
     "output_type": "display_data"
    }
   ],
   "source": [
    "plt.plot(crange,train_accuracy)\n",
    "plt.plot(crange,val_accuracy) "
   ]
  },
  {
   "cell_type": "code",
   "execution_count": 157,
   "metadata": {
    "colab": {},
    "colab_type": "code",
    "executionInfo": {
     "elapsed": 983,
     "status": "ok",
     "timestamp": 1595537230075,
     "user": {
      "displayName": "Amir Etefaghi",
      "photoUrl": "https://lh3.googleusercontent.com/a-/AOh14GgY4KSXhWUixmSgcnPphwGAYwThETYcobjpktx5=s64",
      "userId": "12738767302084939691"
     },
     "user_tz": -270
    },
    "id": "txgenC3aYu5T"
   },
   "outputs": [],
   "source": [
    "bestC=crange[np.argmin(np.abs(train_accuracy-val_accuracy))]"
   ]
  },
  {
   "cell_type": "code",
   "execution_count": 158,
   "metadata": {
    "colab": {
     "base_uri": "https://localhost:8080/",
     "height": 51
    },
    "colab_type": "code",
    "executionInfo": {
     "elapsed": 729,
     "status": "ok",
     "timestamp": 1595537231606,
     "user": {
      "displayName": "Amir Etefaghi",
      "photoUrl": "https://lh3.googleusercontent.com/a-/AOh14GgY4KSXhWUixmSgcnPphwGAYwThETYcobjpktx5=s64",
      "userId": "12738767302084939691"
     },
     "user_tz": -270
    },
    "id": "3a5508g4Y3W1",
    "outputId": "5b91f89f-5bb6-44d4-8960-d331b042aa5a"
   },
   "outputs": [
    {
     "name": "stdout",
     "output_type": "stream",
     "text": [
      "train accuracy = 0.6375\n",
      "test accuracy = 0.4\n"
     ]
    }
   ],
   "source": [
    "svc = SVC(C=0.5,kernel='linear')\n",
    "model = svc.fit(X_train,Y_train)\n",
    "print('train accuracy = ' +str(model.score(X_train,Y_train)))\n",
    "print('test accuracy = ' +str(model.score(X_test,Y_test)))"
   ]
  },
  {
   "cell_type": "code",
   "execution_count": 159,
   "metadata": {
    "colab": {
     "base_uri": "https://localhost:8080/",
     "height": 51
    },
    "colab_type": "code",
    "executionInfo": {
     "elapsed": 866,
     "status": "ok",
     "timestamp": 1595537235958,
     "user": {
      "displayName": "Amir Etefaghi",
      "photoUrl": "https://lh3.googleusercontent.com/a-/AOh14GgY4KSXhWUixmSgcnPphwGAYwThETYcobjpktx5=s64",
      "userId": "12738767302084939691"
     },
     "user_tz": -270
    },
    "id": "VLGxkZpUOCxv",
    "outputId": "3af75825-3f64-4f8e-b011-713877c06e1c"
   },
   "outputs": [
    {
     "name": "stdout",
     "output_type": "stream",
     "text": [
      "0.975\n",
      "1.0\n"
     ]
    }
   ],
   "source": [
    "svc = SVC(kernel='rbf')\n",
    "model = svc.fit(X_train,Y_train)\n",
    "print(model.score(X_train,Y_train))\n",
    "print(model.score(X_val,Y_val))"
   ]
  },
  {
   "cell_type": "code",
   "execution_count": 160,
   "metadata": {
    "colab": {
     "base_uri": "https://localhost:8080/",
     "height": 51
    },
    "colab_type": "code",
    "executionInfo": {
     "elapsed": 878,
     "status": "ok",
     "timestamp": 1595537237803,
     "user": {
      "displayName": "Amir Etefaghi",
      "photoUrl": "https://lh3.googleusercontent.com/a-/AOh14GgY4KSXhWUixmSgcnPphwGAYwThETYcobjpktx5=s64",
      "userId": "12738767302084939691"
     },
     "user_tz": -270
    },
    "id": "vE4DmlFPZkGg",
    "outputId": "efa793da-bb33-4cef-a30f-6aae9cb26db3"
   },
   "outputs": [
    {
     "name": "stdout",
     "output_type": "stream",
     "text": [
      "0.9875\n",
      "1.0\n"
     ]
    }
   ],
   "source": [
    "svc = SVC(kernel='poly',degree=2)\n",
    "model = svc.fit(X_train,Y_train)\n",
    "print(model.score(X_train,Y_train))\n",
    "print(model.score(X_val,Y_val))"
   ]
  },
  {
   "cell_type": "code",
   "execution_count": 161,
   "metadata": {
    "colab": {
     "base_uri": "https://localhost:8080/",
     "height": 51
    },
    "colab_type": "code",
    "executionInfo": {
     "elapsed": 719,
     "status": "ok",
     "timestamp": 1595537239113,
     "user": {
      "displayName": "Amir Etefaghi",
      "photoUrl": "https://lh3.googleusercontent.com/a-/AOh14GgY4KSXhWUixmSgcnPphwGAYwThETYcobjpktx5=s64",
      "userId": "12738767302084939691"
     },
     "user_tz": -270
    },
    "id": "ga3gQEtfZqIW",
    "outputId": "8a410cfa-8d04-4a47-e22b-62d0658b192c"
   },
   "outputs": [
    {
     "name": "stdout",
     "output_type": "stream",
     "text": [
      "0.5625\n",
      "0.2\n"
     ]
    }
   ],
   "source": [
    "svc = SVC(kernel='poly',degree=3)\n",
    "model = svc.fit(X_train,Y_train)\n",
    "print(model.score(X_train,Y_train))\n",
    "print(model.score(X_val,Y_val))"
   ]
  },
  {
   "cell_type": "code",
   "execution_count": 162,
   "metadata": {
    "colab": {
     "base_uri": "https://localhost:8080/",
     "height": 51
    },
    "colab_type": "code",
    "executionInfo": {
     "elapsed": 893,
     "status": "ok",
     "timestamp": 1595537252165,
     "user": {
      "displayName": "Amir Etefaghi",
      "photoUrl": "https://lh3.googleusercontent.com/a-/AOh14GgY4KSXhWUixmSgcnPphwGAYwThETYcobjpktx5=s64",
      "userId": "12738767302084939691"
     },
     "user_tz": -270
    },
    "id": "0_g0FYnraBgG",
    "outputId": "96ce936c-4905-49f9-bda0-716853f02dcf"
   },
   "outputs": [
    {
     "name": "stdout",
     "output_type": "stream",
     "text": [
      "0.975\n",
      "0.7\n"
     ]
    }
   ],
   "source": [
    "svc = SVC(kernel='rbf',)\n",
    "model = svc.fit(X_train,Y_train)\n",
    "print(model.score(X_train,Y_train))\n",
    "print(model.score(X_test,Y_test))"
   ]
  },
  {
   "cell_type": "code",
   "execution_count": 15,
   "metadata": {
    "colab": {},
    "colab_type": "code",
    "executionInfo": {
     "elapsed": 1205,
     "status": "ok",
     "timestamp": 1595528101447,
     "user": {
      "displayName": "Amir Etefaghi",
      "photoUrl": "https://lh3.googleusercontent.com/a-/AOh14GgY4KSXhWUixmSgcnPphwGAYwThETYcobjpktx5=s64",
      "userId": "12738767302084939691"
     },
     "user_tz": -270
    },
    "id": "hJRYLJ-9OUp_"
   },
   "outputs": [],
   "source": [
    "train_data = pd.read_csv('/content/adult_train.csv')\n",
    "test_data = pd.read_csv('/content/Adult_test.csv')"
   ]
  },
  {
   "cell_type": "code",
   "execution_count": 16,
   "metadata": {
    "colab": {},
    "colab_type": "code",
    "executionInfo": {
     "elapsed": 990,
     "status": "ok",
     "timestamp": 1595528101449,
     "user": {
      "displayName": "Amir Etefaghi",
      "photoUrl": "https://lh3.googleusercontent.com/a-/AOh14GgY4KSXhWUixmSgcnPphwGAYwThETYcobjpktx5=s64",
      "userId": "12738767302084939691"
     },
     "user_tz": -270
    },
    "id": "dVmJ09ua2Ts9"
   },
   "outputs": [],
   "source": [
    "col = train_data.columns"
   ]
  },
  {
   "cell_type": "code",
   "execution_count": 74,
   "metadata": {
    "colab": {},
    "colab_type": "code",
    "executionInfo": {
     "elapsed": 1082,
     "status": "ok",
     "timestamp": 1595535721307,
     "user": {
      "displayName": "Amir Etefaghi",
      "photoUrl": "https://lh3.googleusercontent.com/a-/AOh14GgY4KSXhWUixmSgcnPphwGAYwThETYcobjpktx5=s64",
      "userId": "12738767302084939691"
     },
     "user_tz": -270
    },
    "id": "NghNF--PCNIw"
   },
   "outputs": [],
   "source": [
    "X_train = train_data[col[1:]]\n",
    "Y_train = train_data[col[0]]\n",
    "X_test = test_data[col[1:]]\n",
    "Y_test = test_data[col[0]]"
   ]
  },
  {
   "cell_type": "code",
   "execution_count": 75,
   "metadata": {
    "colab": {},
    "colab_type": "code",
    "executionInfo": {
     "elapsed": 1251,
     "status": "ok",
     "timestamp": 1595535725026,
     "user": {
      "displayName": "Amir Etefaghi",
      "photoUrl": "https://lh3.googleusercontent.com/a-/AOh14GgY4KSXhWUixmSgcnPphwGAYwThETYcobjpktx5=s64",
      "userId": "12738767302084939691"
     },
     "user_tz": -270
    },
    "id": "HtLyLQgqI27D"
   },
   "outputs": [],
   "source": [
    "lb = LabelBinarizer()\n",
    "onehot = OneHotEncoder()\n",
    "X_train = onehot.fit_transform(X_train)\n",
    "Y_train = lb.fit_transform(Y_train).reshape(Y_train.shape[0],)\n",
    "X_test = onehot.fit_transform(X_test)\n",
    "Y_test = lb.fit_transform(Y_test).reshape(Y_test.shape[0],)"
   ]
  },
  {
   "cell_type": "code",
   "execution_count": 77,
   "metadata": {
    "colab": {
     "base_uri": "https://localhost:8080/",
     "height": 51
    },
    "colab_type": "code",
    "executionInfo": {
     "elapsed": 13932,
     "status": "ok",
     "timestamp": 1595535809439,
     "user": {
      "displayName": "Amir Etefaghi",
      "photoUrl": "https://lh3.googleusercontent.com/a-/AOh14GgY4KSXhWUixmSgcnPphwGAYwThETYcobjpktx5=s64",
      "userId": "12738767302084939691"
     },
     "user_tz": -270
    },
    "id": "aAAzbONlo8f8",
    "outputId": "7bc33e8c-107f-451b-d87a-356ea661e2cb"
   },
   "outputs": [
    {
     "name": "stdout",
     "output_type": "stream",
     "text": [
      "0.8176\n",
      "0.8109\n"
     ]
    }
   ],
   "source": [
    "linsvc = SVC(C=20 , kernel='linear')\n",
    "model = linsvc.fit(X_train,Y_train)\n",
    "print(model.score(X_train,Y_train))\n",
    "print(model.score(X_test,Y_test))"
   ]
  },
  {
   "cell_type": "code",
   "execution_count": 78,
   "metadata": {
    "colab": {
     "base_uri": "https://localhost:8080/",
     "height": 34
    },
    "colab_type": "code",
    "executionInfo": {
     "elapsed": 2029,
     "status": "ok",
     "timestamp": 1595535825480,
     "user": {
      "displayName": "Amir Etefaghi",
      "photoUrl": "https://lh3.googleusercontent.com/a-/AOh14GgY4KSXhWUixmSgcnPphwGAYwThETYcobjpktx5=s64",
      "userId": "12738767302084939691"
     },
     "user_tz": -270
    },
    "id": "cqefc1gtrKUL",
    "outputId": "84abcc3d-2060-402d-e56e-da7c6898d568"
   },
   "outputs": [
    {
     "name": "stdout",
     "output_type": "stream",
     "text": [
      "4152\n"
     ]
    }
   ],
   "source": [
    "print(model.support_vectors_.shape[0])"
   ]
  },
  {
   "cell_type": "code",
   "execution_count": 79,
   "metadata": {
    "colab": {},
    "colab_type": "code",
    "executionInfo": {
     "elapsed": 1363,
     "status": "ok",
     "timestamp": 1595535833882,
     "user": {
      "displayName": "Amir Etefaghi",
      "photoUrl": "https://lh3.googleusercontent.com/a-/AOh14GgY4KSXhWUixmSgcnPphwGAYwThETYcobjpktx5=s64",
      "userId": "12738767302084939691"
     },
     "user_tz": -270
    },
    "id": "Z_fP3buV4ns3"
   },
   "outputs": [],
   "source": [
    "index = np.arange(X_train.shape[0])\n",
    "np.random.shuffle(index)\n",
    "aa = np.int(0.95*X_train.shape[0])\n",
    "X_val = X_train[index[aa:]]\n",
    "Y_val = Y_train[index[aa:]]\n",
    "X_train = X_train[index[:aa]]\n",
    "Y_train = Y_train[index[:aa]]"
   ]
  },
  {
   "cell_type": "code",
   "execution_count": 80,
   "metadata": {
    "colab": {},
    "colab_type": "code",
    "executionInfo": {
     "elapsed": 1221,
     "status": "ok",
     "timestamp": 1595535836514,
     "user": {
      "displayName": "Amir Etefaghi",
      "photoUrl": "https://lh3.googleusercontent.com/a-/AOh14GgY4KSXhWUixmSgcnPphwGAYwThETYcobjpktx5=s64",
      "userId": "12738767302084939691"
     },
     "user_tz": -270
    },
    "id": "poY16lNF4R2n"
   },
   "outputs": [],
   "source": [
    "crange = np.arange(0.1,1,0.1)"
   ]
  },
  {
   "cell_type": "code",
   "execution_count": 81,
   "metadata": {
    "colab": {},
    "colab_type": "code",
    "executionInfo": {
     "elapsed": 48041,
     "status": "ok",
     "timestamp": 1595535890046,
     "user": {
      "displayName": "Amir Etefaghi",
      "photoUrl": "https://lh3.googleusercontent.com/a-/AOh14GgY4KSXhWUixmSgcnPphwGAYwThETYcobjpktx5=s64",
      "userId": "12738767302084939691"
     },
     "user_tz": -270
    },
    "id": "fAEpgtwVKsP-"
   },
   "outputs": [],
   "source": [
    "train_accuracy = np.zeros(crange.shape[0])\n",
    "test_accuracy = np.zeros(crange.shape[0])\n",
    "i = 0\n",
    "for c in crange: \n",
    "  svc = SVC(C=c , kernel='linear')\n",
    "  model = svc.fit(X_train,Y_train)\n",
    "  train_accuracy[i] = model.score(X_train,Y_train)\n",
    "  test_accuracy[i] = model.score(X_val,Y_val)\n",
    "  i+=1\n"
   ]
  },
  {
   "cell_type": "code",
   "execution_count": 82,
   "metadata": {
    "colab": {
     "base_uri": "https://localhost:8080/",
     "height": 282
    },
    "colab_type": "code",
    "executionInfo": {
     "elapsed": 45280,
     "status": "ok",
     "timestamp": 1595535890054,
     "user": {
      "displayName": "Amir Etefaghi",
      "photoUrl": "https://lh3.googleusercontent.com/a-/AOh14GgY4KSXhWUixmSgcnPphwGAYwThETYcobjpktx5=s64",
      "userId": "12738767302084939691"
     },
     "user_tz": -270
    },
    "id": "kwIpr_F1onf_",
    "outputId": "95bfe60a-0d29-42d9-8576-fb8650d749bf"
   },
   "outputs": [
    {
     "data": {
      "text/plain": [
       "[<matplotlib.lines.Line2D at 0x7f96745e7358>]"
      ]
     },
     "execution_count": 82,
     "metadata": {
      "tags": []
     },
     "output_type": "execute_result"
    },
    {
     "data": {
      "image/png": "[encoded data removed]",
      "text/plain": [
       "<Figure size 432x288 with 1 Axes>"
      ]
     },
     "metadata": {
      "needs_background": "light",
      "tags": []
     },
     "output_type": "display_data"
    }
   ],
   "source": [
    "plt.plot(crange,train_accuracy)\n",
    "plt.plot(crange,test_accuracy) "
   ]
  },
  {
   "cell_type": "code",
   "execution_count": 83,
   "metadata": {
    "colab": {},
    "colab_type": "code",
    "executionInfo": {
     "elapsed": 1520,
     "status": "ok",
     "timestamp": 1595535911663,
     "user": {
      "displayName": "Amir Etefaghi",
      "photoUrl": "https://lh3.googleusercontent.com/a-/AOh14GgY4KSXhWUixmSgcnPphwGAYwThETYcobjpktx5=s64",
      "userId": "12738767302084939691"
     },
     "user_tz": -270
    },
    "id": "Bekw3Ef8STwy"
   },
   "outputs": [],
   "source": [
    "bestC=crange[np.argmin(np.abs(train_accuracy-test_accuracy))]"
   ]
  },
  {
   "cell_type": "code",
   "execution_count": 84,
   "metadata": {
    "colab": {
     "base_uri": "https://localhost:8080/",
     "height": 51
    },
    "colab_type": "code",
    "executionInfo": {
     "elapsed": 8721,
     "status": "ok",
     "timestamp": 1595535919286,
     "user": {
      "displayName": "Amir Etefaghi",
      "photoUrl": "https://lh3.googleusercontent.com/a-/AOh14GgY4KSXhWUixmSgcnPphwGAYwThETYcobjpktx5=s64",
      "userId": "12738767302084939691"
     },
     "user_tz": -270
    },
    "id": "4g34TUsDI8Hw",
    "outputId": "95fffce2-6715-4c5c-8d53-ef1cc53f2db3"
   },
   "outputs": [
    {
     "name": "stdout",
     "output_type": "stream",
     "text": [
      "train accuracy = 0.8177894736842105\n",
      "test accuracy = 0.8121\n"
     ]
    }
   ],
   "source": [
    "svc = SVC(C=bestC,kernel='linear')\n",
    "model = svc.fit(X_train,Y_train)\n",
    "print('train accuracy = ' +str(model.score(X_train,Y_train)))\n",
    "print('test accuracy = ' +str(model.score(X_test,Y_test)))"
   ]
  },
  {
   "cell_type": "code",
   "execution_count": 85,
   "metadata": {
    "colab": {
     "base_uri": "https://localhost:8080/",
     "height": 34
    },
    "colab_type": "code",
    "executionInfo": {
     "elapsed": 1222,
     "status": "ok",
     "timestamp": 1595535933317,
     "user": {
      "displayName": "Amir Etefaghi",
      "photoUrl": "https://lh3.googleusercontent.com/a-/AOh14GgY4KSXhWUixmSgcnPphwGAYwThETYcobjpktx5=s64",
      "userId": "12738767302084939691"
     },
     "user_tz": -270
    },
    "id": "YgLld4VcKv4l",
    "outputId": "496f8f75-a20f-46d2-9eef-b2476ef0cebd"
   },
   "outputs": [
    {
     "name": "stdout",
     "output_type": "stream",
     "text": [
      "3838\n"
     ]
    }
   ],
   "source": [
    "print(model.support_vectors_.shape[0])"
   ]
  },
  {
   "cell_type": "code",
   "execution_count": 58,
   "metadata": {
    "colab": {
     "base_uri": "https://localhost:8080/",
     "height": 51
    },
    "colab_type": "code",
    "executionInfo": {
     "elapsed": 7539,
     "status": "ok",
     "timestamp": 1595534375924,
     "user": {
      "displayName": "Amir Etefaghi",
      "photoUrl": "https://lh3.googleusercontent.com/a-/AOh14GgY4KSXhWUixmSgcnPphwGAYwThETYcobjpktx5=s64",
      "userId": "12738767302084939691"
     },
     "user_tz": -270
    },
    "id": "MLEt_kI_Lpvp",
    "outputId": "6ba0a128-22e3-4624-dc4f-fd694f6ed3a7"
   },
   "outputs": [
    {
     "name": "stdout",
     "output_type": "stream",
     "text": [
      "train accuracy = 0.8362105263157895\n",
      "validatio accuracy = 0.83\n"
     ]
    }
   ],
   "source": [
    "svc = SVC(kernel='rbf')\n",
    "model = svc.fit(X_train,Y_train)\n",
    "print('train accuracy = ' +str(model.score(X_train,Y_train)))\n",
    "print('validatio accuracy = ' +str(model.score(X_val,Y_val)))"
   ]
  },
  {
   "cell_type": "code",
   "execution_count": 59,
   "metadata": {
    "colab": {
     "base_uri": "https://localhost:8080/",
     "height": 51
    },
    "colab_type": "code",
    "executionInfo": {
     "elapsed": 6775,
     "status": "ok",
     "timestamp": 1595534443534,
     "user": {
      "displayName": "Amir Etefaghi",
      "photoUrl": "https://lh3.googleusercontent.com/a-/AOh14GgY4KSXhWUixmSgcnPphwGAYwThETYcobjpktx5=s64",
      "userId": "12738767302084939691"
     },
     "user_tz": -270
    },
    "id": "mfQY34oJQl4D",
    "outputId": "7ae24d87-de6a-4566-a655-f6caafd6f9ae"
   },
   "outputs": [
    {
     "name": "stdout",
     "output_type": "stream",
     "text": [
      "train accuracy = 0.8413684210526315\n",
      "validatio accuracy = 0.826\n"
     ]
    }
   ],
   "source": [
    "svc = SVC(kernel='poly')\n",
    "model = svc.fit(X_train,Y_train)\n",
    "print('train accuracy = ' +str(model.score(X_train,Y_train)))\n",
    "print('validatio accuracy = ' +str(model.score(X_val,Y_val)))"
   ]
  },
  {
   "cell_type": "code",
   "execution_count": 86,
   "metadata": {
    "colab": {},
    "colab_type": "code",
    "executionInfo": {
     "elapsed": 1403,
     "status": "ok",
     "timestamp": 1595535941600,
     "user": {
      "displayName": "Amir Etefaghi",
      "photoUrl": "https://lh3.googleusercontent.com/a-/AOh14GgY4KSXhWUixmSgcnPphwGAYwThETYcobjpktx5=s64",
      "userId": "12738767302084939691"
     },
     "user_tz": -270
    },
    "id": "njFlNzCtUOjE"
   },
   "outputs": [],
   "source": [
    "crange = np.arange(0.1,1,0.1)"
   ]
  },
  {
   "cell_type": "code",
   "execution_count": 87,
   "metadata": {
    "colab": {},
    "colab_type": "code",
    "executionInfo": {
     "elapsed": 58030,
     "status": "ok",
     "timestamp": 1595536002411,
     "user": {
      "displayName": "Amir Etefaghi",
      "photoUrl": "https://lh3.googleusercontent.com/a-/AOh14GgY4KSXhWUixmSgcnPphwGAYwThETYcobjpktx5=s64",
      "userId": "12738767302084939691"
     },
     "user_tz": -270
    },
    "id": "OeBBCZ0CRPvg"
   },
   "outputs": [],
   "source": [
    "train_accuracy = np.zeros(crange.shape[0])\n",
    "test_accuracy = np.zeros(crange.shape[0])\n",
    "i = 0\n",
    "for c in crange: \n",
    "  svc = SVC(C=c , kernel='rbf')\n",
    "  model = svc.fit(X_train,Y_train)\n",
    "  # print('C = ' + str(1-epsilon))\n",
    "  train_accuracy[i] = model.score(X_train,Y_train)\n",
    "  test_accuracy[i] = model.score(X_val,Y_val)\n",
    "  i+=1"
   ]
  },
  {
   "cell_type": "code",
   "execution_count": 88,
   "metadata": {
    "colab": {
     "base_uri": "https://localhost:8080/",
     "height": 282
    },
    "colab_type": "code",
    "executionInfo": {
     "elapsed": 2894,
     "status": "ok",
     "timestamp": 1595536008606,
     "user": {
      "displayName": "Amir Etefaghi",
      "photoUrl": "https://lh3.googleusercontent.com/a-/AOh14GgY4KSXhWUixmSgcnPphwGAYwThETYcobjpktx5=s64",
      "userId": "12738767302084939691"
     },
     "user_tz": -270
    },
    "id": "XVMw4sxzWmo_",
    "outputId": "9836c326-80fb-41e2-e7f0-0ec699cf7d42"
   },
   "outputs": [
    {
     "data": {
      "text/plain": [
       "[<matplotlib.lines.Line2D at 0x7f967453da90>]"
      ]
     },
     "execution_count": 88,
     "metadata": {
      "tags": []
     },
     "output_type": "execute_result"
    },
    {
     "data": {
      "image/png": "[encoded data removed]",
      "text/plain": [
       "<Figure size 432x288 with 1 Axes>"
      ]
     },
     "metadata": {
      "needs_background": "light",
      "tags": []
     },
     "output_type": "display_data"
    }
   ],
   "source": [
    "plt.plot(crange,train_accuracy)\n",
    "plt.plot(crange,test_accuracy) "
   ]
  },
  {
   "cell_type": "code",
   "execution_count": 89,
   "metadata": {
    "colab": {},
    "colab_type": "code",
    "executionInfo": {
     "elapsed": 2881,
     "status": "ok",
     "timestamp": 1595536008607,
     "user": {
      "displayName": "Amir Etefaghi",
      "photoUrl": "https://lh3.googleusercontent.com/a-/AOh14GgY4KSXhWUixmSgcnPphwGAYwThETYcobjpktx5=s64",
      "userId": "12738767302084939691"
     },
     "user_tz": -270
    },
    "id": "fIwVXHCtWrNw"
   },
   "outputs": [],
   "source": [
    "bestC=crange[np.argmin(np.abs(train_accuracy-test_accuracy))]"
   ]
  },
  {
   "cell_type": "code",
   "execution_count": 90,
   "metadata": {
    "colab": {
     "base_uri": "https://localhost:8080/",
     "height": 51
    },
    "colab_type": "code",
    "executionInfo": {
     "elapsed": 10476,
     "status": "ok",
     "timestamp": 1595536059044,
     "user": {
      "displayName": "Amir Etefaghi",
      "photoUrl": "https://lh3.googleusercontent.com/a-/AOh14GgY4KSXhWUixmSgcnPphwGAYwThETYcobjpktx5=s64",
      "userId": "12738767302084939691"
     },
     "user_tz": -270
    },
    "id": "B0xWUw7FW0X5",
    "outputId": "f84dbc14-5339-425d-eebd-c51d9ff8d997"
   },
   "outputs": [
    {
     "name": "stdout",
     "output_type": "stream",
     "text": [
      "train accuracy = 0.8248421052631579\n",
      "test accuracy = 0.8207\n"
     ]
    }
   ],
   "source": [
    "svc = SVC(C=bestC,kernel='rbf')\n",
    "model = svc.fit(X_train,Y_train)\n",
    "print('train accuracy = ' +str(model.score(X_train,Y_train)))\n",
    "print('test accuracy = ' +str(model.score(X_test,Y_test)))"
   ]
  },
  {
   "cell_type": "code",
   "execution_count": null,
   "metadata": {
    "colab": {},
    "colab_type": "code",
    "id": "c_aeGXJ-XAFR"
   },
   "outputs": [],
   "source": [
    ""
   ]
  }
 ],
 "metadata": {
  "colab": {
   "authorship_tag": "ABX9TyOLm88X6qTY9E95Wtf7bLlh",
   "mount_file_id": "1F8zEZBeBjEf6sLEtvy0u0-4GM87V3W7a",
   "name": "SVM.ipynb",
   "provenance": []
  },
  "kernelspec": {
   "display_name": "Python 3",
   "name": "python3"
  }
 },
 "nbformat": 4,
 "nbformat_minor": 0
}
