{
 "cells": [
  {
   "cell_type": "code",
   "execution_count": 55,
   "metadata": {},
   "outputs": [],
   "source": [
    "import numpy as np # linear algebra\n",
    "import pandas as pd # data processing, CSV file I/O (e.g. pd.read_csv)\n",
    "from sklearn.model_selection import train_test_split\n",
    "from math import pi\n",
    "\n",
    "iris = pd.read_csv('Iris.csv')\n",
    "iris.drop('Id',axis=1,inplace=True)"
   ]
  },
  {
   "cell_type": "code",
   "execution_count": 56,
   "metadata": {},
   "outputs": [],
   "source": [
    "def MLestimator(dataset):\n",
    "    mean = np.mean(dataset,axis=0)\n",
    "    variance = np.var(dataset,axis=0)\n",
    "    return(mean,variance)\n",
    "def variance_squaremat(var):\n",
    "    return(np.multiply(var,[[1,0],[0,1]]))\n",
    "def BayesClassifier(test_point,mean,variance):\n",
    "    mean = np.array([mean])\n",
    "    X = test_point-mean\n",
    "    p1 = ((1/(2*pi)**0.5)/(np.linalg.det(variance)))**0.5\n",
    "    p2 = np.exp(-0.5*np.matmul(np.matmul(X,np.linalg.inv(variance)),np.transpose(X)))\n",
    "    P = (1/3)*p1*p2     # 1/3 is the prior probability\n",
    "    return(P)"
   ]
  },
  {
   "cell_type": "code",
   "execution_count": 57,
   "metadata": {},
   "outputs": [],
   "source": [
    "# separating the dataset based on the type of flower\n",
    "iris_virginica = iris.loc[iris.Species=='Iris-virginica']\n",
    "iris_setosa = iris.loc[iris.Species =='Iris-setosa']\n",
    "iris_versicolor = iris.loc[iris.Species=='Iris-versicolor']\n",
    "train_virginica, test_virginica = train_test_split(iris_virginica, test_size=0.3)\n",
    "train_setosa, test_setosa = train_test_split(iris_setosa,test_size=0.3)\n",
    "train_versicolor, test_versicolor = train_test_split(iris_versicolor,test_size=0.3)"
   ]
  },
  {
   "cell_type": "code",
   "execution_count": 58,
   "metadata": {},
   "outputs": [
    {
     "name": "stderr",
     "output_type": "stream",
     "text": [
      "C:\\Users\\ASUS\\Anaconda3\\lib\\site-packages\\pandas\\core\\frame.py:4102: SettingWithCopyWarning: \n",
      "A value is trying to be set on a copy of a slice from a DataFrame\n",
      "\n",
      "See the caveats in the documentation: http://pandas.pydata.org/pandas-docs/stable/user_guide/indexing.html#returning-a-view-versus-a-copy\n",
      "  errors=errors,\n"
     ]
    }
   ],
   "source": [
    "# removing the unrequired columns for ML estimation step\n",
    "train_virginica.drop(['Species','SepalLengthCm','SepalWidthCm'],axis=1,inplace=True)\n",
    "train_setosa.drop(['Species','SepalLengthCm','SepalWidthCm'],axis=1,inplace=True)\n",
    "train_versicolor.drop(['Species','SepalLengthCm','SepalWidthCm'],axis=1,inplace=True)\n",
    "test_virginica.drop(['SepalLengthCm','SepalWidthCm'],axis=1,inplace=True)\n",
    "test_setosa.drop(['SepalLengthCm','SepalWidthCm'],axis=1,inplace=True)\n",
    "test_versicolor.drop(['SepalLengthCm','SepalWidthCm'],axis=1,inplace=True)\n",
    "test_dataset = pd.concat([test_virginica,test_setosa,test_versicolor])\n",
    "test_dataset = test_dataset.reset_index(drop=True)\n",
    "test_virginica.drop(['Species'],axis=1,inplace=True)\n",
    "test_setosa.drop(['Species'],axis=1,inplace=True)\n",
    "test_versicolor.drop(['Species'],axis=1,inplace=True)"
   ]
  },
  {
   "cell_type": "code",
   "execution_count": 59,
   "metadata": {},
   "outputs": [],
   "source": [
    "# ML estimation over the training dataset to determine the mean and covariance of petal length and width\n",
    "train_virginica = train_virginica.values\n",
    "train_setosa = train_setosa.values\n",
    "train_versicolor = train_versicolor.values\n",
    "test_virginica = test_virginica.values\n",
    "test_setosa = test_setosa.values\n",
    "test_versicolor = test_versicolor.values"
   ]
  },
  {
   "cell_type": "code",
   "execution_count": 60,
   "metadata": {},
   "outputs": [],
   "source": [
    "mean_virginica,variance_virginica= MLestimator(train_virginica)\n",
    "mean_setosa,variance_setosa= MLestimator(train_setosa)\n",
    "mean_versicolor,variance_versicolor= MLestimator(train_versicolor)"
   ]
  },
  {
   "cell_type": "code",
   "execution_count": 61,
   "metadata": {},
   "outputs": [],
   "source": [
    "# converting to covariance form (square matrix)\n",
    "\n",
    "variance_virginica = variance_squaremat(variance_virginica)\n",
    "variance_setosa = variance_squaremat(variance_setosa)\n",
    "variance_versicolor = variance_squaremat(variance_versicolor)"
   ]
  },
  {
   "cell_type": "code",
   "execution_count": 73,
   "metadata": {},
   "outputs": [
    {
     "name": "stdout",
     "output_type": "stream",
     "text": [
      "The accuracy of the Bayes classifier which uses ML estimation is: 95.56 %\n"
     ]
    }
   ],
   "source": [
    "count = 0\n",
    "pred=[]\n",
    "test=[]\n",
    "n = 45  # no. of iterations\n",
    "for _ in range(n):\n",
    "    sample = test_dataset.sample()\n",
    "    s = sample.drop('Species',axis=1,inplace=False)\n",
    "    s = s.values\n",
    "\n",
    "    \n",
    "    # virginica flower type probability calculation call\n",
    "    prob_virginica = BayesClassifier(s,mean_virginica,variance_virginica)\n",
    "    \n",
    "    # setosa flower type probability calculation call\n",
    "    prob_setosa = BayesClassifier(s,mean_setosa,variance_setosa)\n",
    "    \n",
    "    # versicolor flower type probability calculation call\n",
    "    prob_versicolor = BayesClassifier(s,mean_versicolor,variance_versicolor)\n",
    "    \n",
    "    if(max(prob_virginica,prob_setosa,prob_versicolor)==prob_virginica):\n",
    "        c = 'Iris-virginica'\n",
    "    elif(max(prob_virginica,prob_setosa,prob_versicolor)==prob_setosa):\n",
    "        c = 'Iris-setosa'\n",
    "    elif(max(prob_virginica,prob_setosa,prob_versicolor)==prob_versicolor):\n",
    "        c = 'Iris-versicolor'\n",
    "    s = str(sample.iloc[0,2])\n",
    "    pred.append(c)\n",
    "    \n",
    "    test.append(s)\n",
    "    \n",
    "    if(s==c):\n",
    "        count+=1\n",
    "        \n",
    "print(\"The accuracy of the Bayes classifier which uses ML estimation is: %0.2f %%\" %(count*100/n))"
   ]
  },
  {
   "cell_type": "code",
   "execution_count": 49,
   "metadata": {},
   "outputs": [],
   "source": [
    "y_test=[]\n",
    "for i in range(45):\n",
    "    if test[i]=='Iris-setosa':\n",
    "        y_test.append(0)\n",
    "    if test[i]=='Iris-versicolor':\n",
    "        y_test.append(1)\n",
    "    if test[i]=='Iris-virginica':\n",
    "        y_test.append(2)"
   ]
  },
  {
   "cell_type": "code",
   "execution_count": 50,
   "metadata": {},
   "outputs": [],
   "source": [
    "y_pred=[]\n",
    "for i in range(45):\n",
    "    if pred[i]=='Iris-setosa':\n",
    "        y_pred.append(0)\n",
    "    if pred[i]=='Iris-versicolor':\n",
    "        y_pred.append(1)\n",
    "    if pred[i]=='Iris-virginica':\n",
    "        y_pred.append(2)"
   ]
  },
  {
   "cell_type": "code",
   "execution_count": 51,
   "metadata": {},
   "outputs": [],
   "source": [
    "import numpy as np\n",
    "\n",
    "def compute_confusion_matrix(true, pred):\n",
    "  '''Computes a confusion matrix using numpy for two np.arrays\n",
    "  true and pred.\n",
    "\n",
    "  Results are identical (and similar in computation time) to: \n",
    "    \"from sklearn.metrics import confusion_matrix\"\n",
    "\n",
    "  However, this function avoids the dependency on sklearn.'''\n",
    "\n",
    "  K = len(np.unique(true)) # Number of classes \n",
    "  result = np.zeros((K, K))\n",
    "\n",
    "  for i in range(len(true)):\n",
    "    result[true[i]][pred[i]] += 1\n",
    "\n",
    "  return result"
   ]
  },
  {
   "cell_type": "code",
   "execution_count": 52,
   "metadata": {},
   "outputs": [
    {
     "data": {
      "text/plain": [
       "array([[17.,  0.,  0.],\n",
       "       [ 0.,  8.,  0.],\n",
       "       [ 0.,  2., 18.]])"
      ]
     },
     "execution_count": 52,
     "metadata": {},
     "output_type": "execute_result"
    }
   ],
   "source": [
    "compute_confusion_matrix(y_test, y_pred)"
   ]
  },
  {
   "cell_type": "code",
   "execution_count": 54,
   "metadata": {},
   "outputs": [
    {
     "data": {
      "image/png": "[encoded data removed]",
      "text/plain": [
       "<Figure size 432x288 with 2 Axes>"
      ]
     },
     "metadata": {
      "needs_background": "light"
     },
     "output_type": "display_data"
    }
   ],
   "source": [
    "from string import ascii_uppercase\n",
    "from pandas import DataFrame\n",
    "import numpy as np\n",
    "import seaborn as sn\n",
    "\n",
    "\n",
    "\n",
    "\n",
    "columns = ['class %s' %(i) for i in list(ascii_uppercase)[0:len(np.unique(y_test))]]\n",
    "\n",
    "confm = compute_confusion_matrix(y_test, y_pred)\n",
    "df_cm = DataFrame(confm, index=columns, columns=columns)\n",
    "\n",
    "\n",
    "ax = sn.heatmap(df_cm, cmap='Oranges', annot=True)"
   ]
  },
  {
   "cell_type": "code",
   "execution_count": null,
   "metadata": {},
   "outputs": [],
   "source": []
  }
 ],
 "metadata": {
  "kernelspec": {
   "display_name": "Python 3",
   "language": "python",
   "name": "python3"
  },
  "language_info": {
   "codemirror_mode": {
    "name": "ipython",
    "version": 3
   },
   "file_extension": ".py",
   "mimetype": "text/x-python",
   "name": "python",
   "nbconvert_exporter": "python",
   "pygments_lexer": "ipython3",
   "version": "3.8.5"
  }
 },
 "nbformat": 4,
 "nbformat_minor": 2
}
