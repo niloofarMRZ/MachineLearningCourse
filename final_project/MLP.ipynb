{
 "cells": [
  {
   "cell_type": "code",
   "execution_count": 16,
   "metadata": {
    "ExecuteTime": {
     "end_time": "2019-01-16T20:39:41.500258Z",
     "start_time": "2019-01-16T20:39:39.261856Z"
    }
   },
   "outputs": [],
   "source": [
    "import pandas as pd\n",
    "import numpy as np\n",
    "from tensorflow import keras\n",
    "from tensorflow.keras.datasets import mnist\n",
    "from tensorflow.keras.models import Sequential\n",
    "from tensorflow.keras.layers import Dense, Dropout\n",
    "from tensorflow.keras.optimizers import RMSprop\n",
    "\n",
    "import matplotlib.pyplot as plt\n",
    "%matplotlib inline\n",
    "\n",
    "from sklearn.metrics import classification_report, confusion_matrix\n"
   ]
  },
  {
   "cell_type": "code",
   "execution_count": 5,
   "metadata": {},
   "outputs": [],
   "source": [
    "train = pd.read_csv(\"train.csv\")\n",
    "\n"
   ]
  },
  {
   "cell_type": "code",
   "execution_count": 6,
   "metadata": {},
   "outputs": [
    {
     "name": "stdout",
     "output_type": "stream",
     "text": [
      "Train size: 42000\n",
      "   label  pixel0  pixel1  pixel2  pixel3  pixel4  pixel5  pixel6  pixel7  \\\n",
      "0      1       0       0       0       0       0       0       0       0   \n",
      "1      0       0       0       0       0       0       0       0       0   \n",
      "2      1       0       0       0       0       0       0       0       0   \n",
      "3      4       0       0       0       0       0       0       0       0   \n",
      "4      0       0       0       0       0       0       0       0       0   \n",
      "\n",
      "   pixel8  ...  pixel774  pixel775  pixel776  pixel777  pixel778  pixel779  \\\n",
      "0       0  ...         0         0         0         0         0         0   \n",
      "1       0  ...         0         0         0         0         0         0   \n",
      "2       0  ...         0         0         0         0         0         0   \n",
      "3       0  ...         0         0         0         0         0         0   \n",
      "4       0  ...         0         0         0         0         0         0   \n",
      "\n",
      "   pixel780  pixel781  pixel782  pixel783  \n",
      "0         0         0         0         0  \n",
      "1         0         0         0         0  \n",
      "2         0         0         0         0  \n",
      "3         0         0         0         0  \n",
      "4         0         0         0         0  \n",
      "\n",
      "[5 rows x 785 columns]\n"
     ]
    }
   ],
   "source": [
    "print(\"Train size: {}\". format(len(train)))\n",
    "print(train.head())"
   ]
  },
  {
   "cell_type": "code",
   "execution_count": 7,
   "metadata": {},
   "outputs": [
    {
     "name": "stdout",
     "output_type": "stream",
     "text": [
      "   pixel0  pixel1  pixel2  pixel3  pixel4  pixel5  pixel6  pixel7  pixel8  \\\n",
      "0       0       0       0       0       0       0       0       0       0   \n",
      "1       0       0       0       0       0       0       0       0       0   \n",
      "2       0       0       0       0       0       0       0       0       0   \n",
      "3       0       0       0       0       0       0       0       0       0   \n",
      "4       0       0       0       0       0       0       0       0       0   \n",
      "\n",
      "   pixel9  ...  pixel774  pixel775  pixel776  pixel777  pixel778  pixel779  \\\n",
      "0       0  ...         0         0         0         0         0         0   \n",
      "1       0  ...         0         0         0         0         0         0   \n",
      "2       0  ...         0         0         0         0         0         0   \n",
      "3       0  ...         0         0         0         0         0         0   \n",
      "4       0  ...         0         0         0         0         0         0   \n",
      "\n",
      "   pixel780  pixel781  pixel782  pixel783  \n",
      "0         0         0         0         0  \n",
      "1         0         0         0         0  \n",
      "2         0         0         0         0  \n",
      "3         0         0         0         0  \n",
      "4         0         0         0         0  \n",
      "\n",
      "[5 rows x 784 columns]\n"
     ]
    }
   ],
   "source": [
    "Y = train[\"label\"]\n",
    "X = train.drop(labels = [\"label\"],axis = 1)\n",
    "print(X.head())\n"
   ]
  },
  {
   "cell_type": "code",
   "execution_count": 8,
   "metadata": {
    "ExecuteTime": {
     "end_time": "2019-01-08T20:49:47.144492Z",
     "start_time": "2019-01-08T20:49:47.016025Z"
    }
   },
   "outputs": [
    {
     "data": {
      "image/png": "[encoded data removed]",
      "text/plain": [
       "<Figure size 432x288 with 1 Axes>"
      ]
     },
     "metadata": {
      "needs_background": "light"
     },
     "output_type": "display_data"
    },
    {
     "name": "stdout",
     "output_type": "stream",
     "text": [
      "Label: 1\n"
     ]
    }
   ],
   "source": [
    "plt.imshow(X.values[0].reshape(28,28), cmap=plt.cm.binary)\n",
    "plt.show()\n",
    "print('Label: {}'.format(Y[0]))"
   ]
  },
  {
   "cell_type": "code",
   "execution_count": 9,
   "metadata": {
    "ExecuteTime": {
     "end_time": "2019-01-08T20:49:57.425537Z",
     "start_time": "2019-01-08T20:49:57.272377Z"
    }
   },
   "outputs": [
    {
     "name": "stdout",
     "output_type": "stream",
     "text": [
      "[0.         0.         0.         0.         0.         0.\n",
      " 0.         0.         0.         0.         0.         0.\n",
      " 0.         0.         0.         0.         0.         0.\n",
      " 0.         0.         0.         0.         0.         0.\n",
      " 0.         0.         0.         0.         0.         0.\n",
      " 0.         0.         0.         0.         0.         0.\n",
      " 0.         0.         0.         0.         0.         0.\n",
      " 0.         0.         0.         0.         0.         0.\n",
      " 0.         0.         0.         0.         0.         0.\n",
      " 0.         0.         0.         0.         0.         0.\n",
      " 0.         0.         0.         0.         0.         0.\n",
      " 0.         0.         0.         0.         0.         0.\n",
      " 0.         0.         0.         0.         0.         0.\n",
      " 0.         0.         0.         0.         0.         0.\n",
      " 0.         0.         0.         0.         0.         0.\n",
      " 0.         0.         0.         0.         0.         0.\n",
      " 0.         0.         0.         0.         0.         0.\n",
      " 0.         0.         0.         0.         0.         0.\n",
      " 0.         0.         0.         0.         0.         0.\n",
      " 0.         0.         0.         0.         0.         0.\n",
      " 0.         0.         0.         0.         0.         0.\n",
      " 0.         0.         0.         0.         0.         0.\n",
      " 0.7372549  1.         0.36862746 0.         0.         0.\n",
      " 0.         0.         0.         0.         0.         0.\n",
      " 0.         0.         0.         0.         0.         0.\n",
      " 0.         0.         0.         0.         0.         0.\n",
      " 0.         0.         0.         0.7490196  0.98039216 0.99215686\n",
      " 0.3647059  0.         0.         0.         0.         0.\n",
      " 0.         0.         0.         0.         0.         0.\n",
      " 0.         0.         0.         0.         0.         0.\n",
      " 0.         0.         0.         0.         0.         0.\n",
      " 0.48235294 0.972549   0.99215686 0.654902   0.03921569 0.\n",
      " 0.         0.         0.         0.         0.         0.\n",
      " 0.         0.         0.         0.         0.         0.\n",
      " 0.         0.         0.         0.         0.         0.\n",
      " 0.         0.         0.         0.3137255  0.96862745 0.99215686\n",
      " 0.8156863  0.05098039 0.         0.         0.         0.\n",
      " 0.         0.         0.         0.         0.         0.\n",
      " 0.         0.         0.         0.         0.         0.\n",
      " 0.         0.         0.         0.         0.         0.\n",
      " 0.11372549 0.8117647  0.99215686 0.92156863 0.3019608  0.\n",
      " 0.         0.         0.         0.         0.         0.\n",
      " 0.         0.         0.         0.         0.         0.\n",
      " 0.         0.         0.         0.         0.         0.\n",
      " 0.         0.         0.         0.21176471 0.81960785 0.99215686\n",
      " 0.99215686 0.34509805 0.         0.         0.         0.\n",
      " 0.         0.         0.         0.         0.         0.\n",
      " 0.         0.         0.         0.         0.         0.\n",
      " 0.         0.         0.         0.         0.         0.\n",
      " 0.3647059  0.99607843 0.99215686 0.93333334 0.6666667  0.06666667\n",
      " 0.         0.         0.         0.         0.         0.\n",
      " 0.         0.         0.         0.         0.         0.\n",
      " 0.         0.         0.         0.         0.         0.\n",
      " 0.         0.         0.         0.09019608 0.8235294  0.99607843\n",
      " 0.99215686 0.62352943 0.         0.         0.         0.\n",
      " 0.         0.         0.         0.         0.         0.\n",
      " 0.         0.         0.         0.         0.         0.\n",
      " 0.         0.         0.         0.         0.         0.\n",
      " 0.0627451  0.81960785 0.99215686 0.99607843 0.9411765  0.31764707\n",
      " 0.         0.         0.         0.         0.         0.\n",
      " 0.         0.         0.         0.         0.         0.\n",
      " 0.         0.         0.         0.         0.         0.\n",
      " 0.         0.         0.         0.         0.10588235 0.99215686\n",
      " 0.99215686 0.99607843 0.05098039 0.         0.         0.\n",
      " 0.         0.         0.         0.         0.         0.\n",
      " 0.         0.         0.         0.         0.         0.\n",
      " 0.         0.         0.         0.         0.         0.\n",
      " 0.         0.07843138 0.80784315 0.99607843 0.99607843 0.7764706\n",
      " 0.02745098 0.         0.         0.         0.         0.\n",
      " 0.         0.         0.         0.         0.         0.\n",
      " 0.         0.         0.         0.         0.         0.\n",
      " 0.         0.         0.         0.         0.         0.65882355\n",
      " 0.99215686 0.99215686 0.76862746 0.02745098 0.         0.\n",
      " 0.         0.         0.         0.         0.         0.\n",
      " 0.         0.         0.         0.         0.         0.\n",
      " 0.         0.         0.         0.         0.         0.\n",
      " 0.         0.         0.07843138 0.79607844 0.99215686 0.972549\n",
      " 0.29803923 0.         0.         0.         0.         0.\n",
      " 0.         0.         0.         0.         0.         0.\n",
      " 0.         0.         0.         0.         0.         0.\n",
      " 0.         0.         0.         0.         0.         0.08627451\n",
      " 0.7372549  0.99215686 0.9607843  0.3647059  0.         0.\n",
      " 0.         0.         0.         0.         0.         0.\n",
      " 0.         0.         0.         0.         0.         0.\n",
      " 0.         0.         0.         0.         0.         0.\n",
      " 0.         0.         0.         0.40392157 0.99215686 0.99215686\n",
      " 0.7490196  0.         0.         0.         0.         0.\n",
      " 0.         0.         0.         0.         0.         0.\n",
      " 0.         0.         0.         0.         0.         0.\n",
      " 0.         0.         0.         0.         0.         0.\n",
      " 0.34901962 0.9411765  0.99215686 0.7647059  0.09803922 0.\n",
      " 0.         0.         0.         0.         0.         0.\n",
      " 0.         0.         0.         0.         0.         0.\n",
      " 0.         0.         0.         0.         0.         0.\n",
      " 0.         0.         0.         0.05882353 0.8627451  0.99215686\n",
      " 0.99215686 0.3137255  0.         0.         0.         0.\n",
      " 0.         0.         0.         0.         0.         0.\n",
      " 0.         0.         0.         0.         0.         0.\n",
      " 0.         0.         0.         0.         0.         0.\n",
      " 0.         0.36862746 0.99215686 0.99215686 0.99215686 0.36862746\n",
      " 0.         0.         0.         0.         0.         0.\n",
      " 0.         0.         0.         0.         0.         0.\n",
      " 0.         0.         0.         0.         0.         0.\n",
      " 0.         0.         0.         0.         0.         0.34901962\n",
      " 0.9843137  0.99215686 0.98039216 0.5137255  0.         0.\n",
      " 0.         0.         0.         0.         0.         0.\n",
      " 0.         0.         0.         0.         0.         0.\n",
      " 0.         0.         0.         0.         0.         0.\n",
      " 0.         0.         0.         0.         0.8392157  0.85490197\n",
      " 0.37254903 0.         0.         0.         0.         0.\n",
      " 0.         0.         0.         0.         0.         0.\n",
      " 0.         0.         0.         0.         0.         0.\n",
      " 0.         0.         0.         0.         0.         0.\n",
      " 0.         0.         0.         0.         0.         0.\n",
      " 0.         0.         0.         0.         0.         0.\n",
      " 0.         0.         0.         0.         0.         0.\n",
      " 0.         0.         0.         0.         0.         0.\n",
      " 0.         0.         0.         0.         0.         0.\n",
      " 0.         0.         0.         0.         0.         0.\n",
      " 0.         0.         0.         0.         0.         0.\n",
      " 0.         0.         0.         0.         0.         0.\n",
      " 0.         0.         0.         0.         0.         0.\n",
      " 0.         0.         0.         0.         0.         0.\n",
      " 0.         0.         0.         0.         0.         0.\n",
      " 0.         0.         0.         0.         0.         0.\n",
      " 0.         0.         0.         0.         0.         0.\n",
      " 0.         0.         0.         0.         0.         0.\n",
      " 0.         0.         0.         0.         0.         0.\n",
      " 0.         0.         0.         0.         0.         0.\n",
      " 0.         0.         0.         0.         0.         0.\n",
      " 0.         0.         0.         0.        ]\n"
     ]
    }
   ],
   "source": [
    "x = X.values.reshape(42000, 784)\n",
    "\n",
    "x = x.astype('float32')\n",
    "x /= 255\n",
    "\n",
    "print(x[0])"
   ]
  },
  {
   "cell_type": "code",
   "execution_count": 10,
   "metadata": {
    "ExecuteTime": {
     "end_time": "2019-01-08T20:50:48.007428Z",
     "start_time": "2019-01-08T20:50:47.986527Z"
    }
   },
   "outputs": [
    {
     "name": "stdout",
     "output_type": "stream",
     "text": [
      "[0. 1. 0. 0. 0. 0. 0. 0. 0. 0.]\n"
     ]
    }
   ],
   "source": [
    "num_classes = 10\n",
    "\n",
    "y = keras.utils.to_categorical(Y, num_classes)\n",
    "print(y[0])"
   ]
  },
  {
   "cell_type": "code",
   "execution_count": 11,
   "metadata": {},
   "outputs": [
    {
     "name": "stdout",
     "output_type": "stream",
     "text": [
      "Length of Train: 33600\n",
      "Length of Validation: 8400\n"
     ]
    }
   ],
   "source": [
    "from sklearn.model_selection import train_test_split\n",
    "x_train, x_val, y_train, y_val = train_test_split(x, y, test_size = 0.2, random_state=9)\n",
    "print('Length of Train: {}'.format(len(x_train)))\n",
    "print('Length of Validation: {}'.format(len(x_val)))"
   ]
  },
  {
   "cell_type": "code",
   "execution_count": 21,
   "metadata": {
    "ExecuteTime": {
     "end_time": "2019-01-08T21:38:00.233865Z",
     "start_time": "2019-01-08T21:38:00.15079Z"
    },
    "scrolled": true
   },
   "outputs": [
    {
     "name": "stdout",
     "output_type": "stream",
     "text": [
      "Model: \"sequential_1\"\n",
      "_________________________________________________________________\n",
      "Layer (type)                 Output Shape              Param #   \n",
      "=================================================================\n",
      "dense_3 (Dense)              (None, 350)               274750    \n",
      "_________________________________________________________________\n",
      "dense_4 (Dense)              (None, 50)                17550     \n",
      "_________________________________________________________________\n",
      "dense_5 (Dense)              (None, 10)                510       \n",
      "=================================================================\n",
      "Total params: 292,810\n",
      "Trainable params: 292,810\n",
      "Non-trainable params: 0\n",
      "_________________________________________________________________\n"
     ]
    }
   ],
   "source": [
    "model = Sequential()\n",
    "\n",
    "model.add(Dense(350, activation='relu', input_shape=(784,)))\n",
    "model.add(Dense(50, activation='relu'))\n",
    "model.add(Dense(num_classes, activation='softmax'))\n",
    "\n",
    "model.summary()"
   ]
  },
  {
   "cell_type": "code",
   "execution_count": 22,
   "metadata": {
    "ExecuteTime": {
     "end_time": "2019-01-08T21:33:17.184644Z",
     "start_time": "2019-01-08T21:33:17.129141Z"
    }
   },
   "outputs": [],
   "source": [
    "model.compile(loss='categorical_crossentropy',\n",
    "              optimizer='adam',\n",
    "              metrics=['accuracy'])"
   ]
  },
  {
   "cell_type": "code",
   "execution_count": 23,
   "metadata": {
    "ExecuteTime": {
     "end_time": "2019-01-08T21:36:15.501168Z",
     "start_time": "2019-01-08T21:33:19.322895Z"
    }
   },
   "outputs": [
    {
     "name": "stdout",
     "output_type": "stream",
     "text": [
      "Train on 33600 samples, validate on 8400 samples\n",
      "Epoch 1/30\n",
      "33600/33600 [==============================] - 2s 48us/sample - loss: 0.4431 - accuracy: 0.8749 - val_loss: 0.2182 - val_accuracy: 0.9398\n",
      "Epoch 2/30\n",
      "33600/33600 [==============================] - 1s 30us/sample - loss: 0.1691 - accuracy: 0.9506 - val_loss: 0.1635 - val_accuracy: 0.9536\n",
      "Epoch 3/30\n",
      "33600/33600 [==============================] - 1s 30us/sample - loss: 0.1180 - accuracy: 0.9652 - val_loss: 0.1344 - val_accuracy: 0.9614\n",
      "Epoch 4/30\n",
      "33600/33600 [==============================] - 1s 31us/sample - loss: 0.0880 - accuracy: 0.9735 - val_loss: 0.1214 - val_accuracy: 0.9646\n",
      "Epoch 5/30\n",
      "33600/33600 [==============================] - 1s 30us/sample - loss: 0.0651 - accuracy: 0.9813 - val_loss: 0.1128 - val_accuracy: 0.9654\n",
      "Epoch 6/30\n",
      "33600/33600 [==============================] - 1s 38us/sample - loss: 0.0475 - accuracy: 0.9862 - val_loss: 0.1044 - val_accuracy: 0.9674\n",
      "Epoch 7/30\n",
      "33600/33600 [==============================] - 1s 31us/sample - loss: 0.0372 - accuracy: 0.9897 - val_loss: 0.0983 - val_accuracy: 0.9736\n",
      "Epoch 8/30\n",
      "33600/33600 [==============================] - 1s 30us/sample - loss: 0.0320 - accuracy: 0.9908 - val_loss: 0.1032 - val_accuracy: 0.9683\n",
      "Epoch 9/30\n",
      "33600/33600 [==============================] - 1s 29us/sample - loss: 0.0214 - accuracy: 0.9951 - val_loss: 0.1030 - val_accuracy: 0.9707\n",
      "Epoch 10/30\n",
      "33600/33600 [==============================] - 1s 30us/sample - loss: 0.0152 - accuracy: 0.9970 - val_loss: 0.0919 - val_accuracy: 0.9731\n",
      "Epoch 11/30\n",
      "33600/33600 [==============================] - 1s 31us/sample - loss: 0.0113 - accuracy: 0.9980 - val_loss: 0.0967 - val_accuracy: 0.9736\n",
      "Epoch 12/30\n",
      "33600/33600 [==============================] - 1s 30us/sample - loss: 0.0079 - accuracy: 0.9989 - val_loss: 0.0928 - val_accuracy: 0.9745\n",
      "Epoch 13/30\n",
      "33600/33600 [==============================] - 1s 30us/sample - loss: 0.0063 - accuracy: 0.9993 - val_loss: 0.0935 - val_accuracy: 0.9755\n",
      "Epoch 14/30\n",
      "33600/33600 [==============================] - 1s 30us/sample - loss: 0.0061 - accuracy: 0.9990 - val_loss: 0.0973 - val_accuracy: 0.9746\n",
      "Epoch 15/30\n",
      "33600/33600 [==============================] - 1s 30us/sample - loss: 0.0044 - accuracy: 0.9995 - val_loss: 0.0986 - val_accuracy: 0.9746\n",
      "Epoch 16/30\n",
      "33600/33600 [==============================] - 1s 30us/sample - loss: 0.0026 - accuracy: 1.0000 - val_loss: 0.0977 - val_accuracy: 0.9758\n",
      "Epoch 17/30\n",
      "33600/33600 [==============================] - 1s 32us/sample - loss: 0.0020 - accuracy: 0.9999 - val_loss: 0.1062 - val_accuracy: 0.9744\n",
      "Epoch 18/30\n",
      "33600/33600 [==============================] - 1s 30us/sample - loss: 0.0018 - accuracy: 0.9999 - val_loss: 0.1022 - val_accuracy: 0.9756\n",
      "Epoch 19/30\n",
      "33600/33600 [==============================] - 1s 30us/sample - loss: 0.0013 - accuracy: 1.0000 - val_loss: 0.0996 - val_accuracy: 0.9760\n",
      "Epoch 20/30\n",
      "33600/33600 [==============================] - 1s 30us/sample - loss: 0.0010 - accuracy: 1.0000 - val_loss: 0.1034 - val_accuracy: 0.9758\n",
      "Epoch 21/30\n",
      "33600/33600 [==============================] - 1s 30us/sample - loss: 8.7446e-04 - accuracy: 1.0000 - val_loss: 0.1054 - val_accuracy: 0.9755\n",
      "Epoch 22/30\n",
      "33600/33600 [==============================] - 1s 30us/sample - loss: 7.5738e-04 - accuracy: 1.0000 - val_loss: 0.1044 - val_accuracy: 0.9776\n",
      "Epoch 23/30\n",
      "33600/33600 [==============================] - 1s 30us/sample - loss: 6.6677e-04 - accuracy: 1.0000 - val_loss: 0.1059 - val_accuracy: 0.9763\n",
      "Epoch 24/30\n",
      "33600/33600 [==============================] - 1s 30us/sample - loss: 5.7001e-04 - accuracy: 1.0000 - val_loss: 0.1079 - val_accuracy: 0.9771\n",
      "Epoch 25/30\n",
      "33600/33600 [==============================] - 1s 30us/sample - loss: 5.0732e-04 - accuracy: 1.0000 - val_loss: 0.1088 - val_accuracy: 0.9767\n",
      "Epoch 26/30\n",
      "33600/33600 [==============================] - 1s 30us/sample - loss: 4.4698e-04 - accuracy: 1.0000 - val_loss: 0.1114 - val_accuracy: 0.9761\n",
      "Epoch 27/30\n",
      "33600/33600 [==============================] - 1s 30us/sample - loss: 4.0016e-04 - accuracy: 1.0000 - val_loss: 0.1111 - val_accuracy: 0.9765\n",
      "Epoch 28/30\n",
      "33600/33600 [==============================] - 1s 31us/sample - loss: 3.5611e-04 - accuracy: 1.0000 - val_loss: 0.1121 - val_accuracy: 0.9763\n",
      "Epoch 29/30\n",
      "33600/33600 [==============================] - 1s 30us/sample - loss: 3.1584e-04 - accuracy: 1.0000 - val_loss: 0.1141 - val_accuracy: 0.9762\n",
      "Epoch 30/30\n",
      "33600/33600 [==============================] - 1s 30us/sample - loss: 2.8211e-04 - accuracy: 1.0000 - val_loss: 0.1142 - val_accuracy: 0.9765\n"
     ]
    }
   ],
   "source": [
    "# Treina com os parte dos dados\n",
    "batch_size = 250\n",
    "epochs = 30\n",
    "\n",
    "history = model.fit(x_train, y_train,\n",
    "                    batch_size=batch_size,\n",
    "                    epochs=epochs,\n",
    "                    verbose=1,\n",
    "                    validation_data=(x_val, y_val))"
   ]
  },
  {
   "cell_type": "code",
   "execution_count": 26,
   "metadata": {
    "ExecuteTime": {
     "end_time": "2019-01-08T21:36:20.243921Z",
     "start_time": "2019-01-08T21:36:20.064201Z"
    }
   },
   "outputs": [
    {
     "name": "stdout",
     "output_type": "stream",
     "text": [
      "1.0 0.97761905\n",
      "0.98995835 0.9717738\n"
     ]
    },
    {
     "data": {
      "image/png": "[encoded data removed]",
      "text/plain": [
       "<Figure size 1152x576 with 2 Axes>"
      ]
     },
     "metadata": {
      "needs_background": "light"
     },
     "output_type": "display_data"
    }
   ],
   "source": [
    "fig, ax = plt.subplots(1,2, figsize=(16,8))\n",
    "ax[0].plot(history.history['loss'], label=\"Training loss\")\n",
    "ax[0].plot(history.history['val_loss'], label=\"validation loss\",axes =ax[0])\n",
    "legend = ax[0].legend(loc='best', shadow=True)\n",
    "\n",
    "ax[1].plot(history.history['accuracy'], label=\"Training accuracy\")\n",
    "ax[1].plot(history.history['val_accuracy'], label=\"Validation accuracy\")\n",
    "legend = ax[1].legend(loc='best', shadow=True)\n",
    "plt.savefig('1.png')\n",
    "\n",
    "print(max(history.history['accuracy']), max(history.history['val_accuracy']))\n",
    "print(np.mean(history.history['accuracy']), np.mean(history.history['val_accuracy']))"
   ]
  },
  {
   "cell_type": "code",
   "execution_count": 27,
   "metadata": {
    "ExecuteTime": {
     "end_time": "2019-01-08T21:36:39.779842Z",
     "start_time": "2019-01-08T21:36:38.946173Z"
    }
   },
   "outputs": [
    {
     "name": "stdout",
     "output_type": "stream",
     "text": [
      "Test loss: 0.11417685928515614\n",
      "Test accuracy: 97.65475988388062\n"
     ]
    }
   ],
   "source": [
    "score = model.evaluate(x_val, y_val, verbose=0)\n",
    "print('Test loss:', score[0])\n",
    "print('Test accuracy:', score[1]*100)"
   ]
  },
  {
   "cell_type": "code",
   "execution_count": 28,
   "metadata": {
    "ExecuteTime": {
     "end_time": "2019-01-08T21:24:57.7654Z",
     "start_time": "2019-01-08T21:24:57.220867Z"
    }
   },
   "outputs": [
    {
     "name": "stdout",
     "output_type": "stream",
     "text": [
      "Confusion Matrix\n",
      "[[792   0   1   1   0   2   3   1   1   0]\n",
      " [  0 955   4   3   2   0   0   3   1   0]\n",
      " [  2   3 809   4   1   1   0   5   3   1]\n",
      " [  0   0   3 862   1  12   0   2   2   3]\n",
      " [  0   3   1   0 791   0   2   1   2   8]\n",
      " [  4   0   1   8   0 745   2   0   3   4]\n",
      " [  4   2   2   0   2   5 785   0   3   0]\n",
      " [  1   5   3   0   2   0   1 835   4   4]\n",
      " [  6   3   1   3   4   3   2   1 806   6]\n",
      " [  4   0   0   3  11   0   0   6   2 823]]\n",
      "Classification Report\n",
      "              precision    recall  f1-score   support\n",
      "\n",
      "           0       0.97      0.99      0.98       801\n",
      "           1       0.98      0.99      0.99       968\n",
      "           2       0.98      0.98      0.98       829\n",
      "           3       0.98      0.97      0.97       885\n",
      "           4       0.97      0.98      0.98       808\n",
      "           5       0.97      0.97      0.97       767\n",
      "           6       0.99      0.98      0.98       803\n",
      "           7       0.98      0.98      0.98       855\n",
      "           8       0.97      0.97      0.97       835\n",
      "           9       0.97      0.97      0.97       849\n",
      "\n",
      "    accuracy                           0.98      8400\n",
      "   macro avg       0.98      0.98      0.98      8400\n",
      "weighted avg       0.98      0.98      0.98      8400\n",
      "\n"
     ]
    }
   ],
   "source": [
    "y_pred = model.predict_classes(x_val)\n",
    "\n",
    "import numpy as np\n",
    "y_test_c = np.argmax(y_val, axis=1)\n",
    "\n",
    "print('Confusion Matrix')\n",
    "print(confusion_matrix(y_test_c, y_pred))\n",
    "print('Classification Report')\n",
    "target_names = ['0', '1', '2', '3', '4', '5', '6', '7', '8', '9']\n",
    "print(classification_report(y_test_c, y_pred, target_names=target_names))"
   ]
  },
  {
   "cell_type": "code",
   "execution_count": null,
   "metadata": {},
   "outputs": [],
   "source": []
  }
 ],
 "metadata": {
  "kernelspec": {
   "display_name": "Python 3",
   "language": "python",
   "name": "python3"
  },
  "language_info": {
   "codemirror_mode": {
    "name": "ipython",
    "version": 3
   },
   "file_extension": ".py",
   "mimetype": "text/x-python",
   "name": "python",
   "nbconvert_exporter": "python",
   "pygments_lexer": "ipython3",
   "version": "3.8.5"
  }
 },
 "nbformat": 4,
 "nbformat_minor": 4
}
